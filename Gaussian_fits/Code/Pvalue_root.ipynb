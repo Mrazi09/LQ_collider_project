{
 "cells": [
  {
   "cell_type": "code",
   "execution_count": 1,
   "metadata": {},
   "outputs": [],
   "source": [
    "import pandas as pd\n",
    "import scipy\n",
    "from scipy.stats import poisson\n",
    "from scipy.stats import multinomial\n",
    "from scipy.stats import norm\n",
    "import warnings\n",
    "\n",
    "import glob\n",
    "import numpy as np\n",
    "from tqdm import tqdm\n",
    "\n",
    "from matplotlib import pyplot as plt\n",
    "import matplotlib as mpl"
   ]
  },
  {
   "cell_type": "code",
   "execution_count": 2,
   "metadata": {},
   "outputs": [],
   "source": [
    "def latex_float(f):\n",
    "    float_str = \"{0:.2g}\".format(f)\n",
    "    if \"e\" in float_str:\n",
    "        base, exponent = float_str.split(\"e\")\n",
    "        return r\"{0} \\times 10^{{{1}}}\".format(base, int(exponent))\n",
    "    else:\n",
    "        return float_str"
   ]
  },
  {
   "cell_type": "code",
   "execution_count": 3,
   "metadata": {},
   "outputs": [],
   "source": [
    "path = \"/home/felipe/JoaoPino/1-LQsCollider_project/Data_MadGraph/Full_data\"\n",
    "\n",
    "all_Signal = glob.glob(path + \"/LQ_Tchannel_1p5TeV.csv\")\n",
    "all_ttbar = glob.glob(path + \"/ttbar_*.csv\")\n",
    "all_WW = glob.glob(path + \"/WW_*.csv\")\n",
    "all_ZZ = glob.glob(path + \"/ZZ_*.csv\")\n",
    "all_ZW = glob.glob(path + \"/ZW_*.csv\")\n",
    "all_Zplusjets = glob.glob(path + \"/Z_plus_jets_*.csv\")\n"
   ]
  },
  {
   "cell_type": "code",
   "execution_count": 4,
   "metadata": {},
   "outputs": [],
   "source": [
    "li_Signal = []\n",
    "li_ttbar = []\n",
    "li_WW = []\n",
    "li_ZZ = []\n",
    "li_ZW = []\n",
    "li_Zplusjets = []\n",
    "\n",
    "#Signal\n",
    "for filename in all_Signal:\n",
    "    df = pd.read_csv(filename, index_col=None, header=0)\n",
    "    li_Signal.append(df)\n",
    "\n",
    "Signal = pd.concat(li_Signal, axis=0, ignore_index=True)\n",
    "\n",
    "#ttbar\n",
    "for filename in all_ttbar:\n",
    "    df = pd.read_csv(filename, index_col=None, header=0)\n",
    "    li_ttbar.append(df)\n",
    "\n",
    "ttbar = pd.concat(li_ttbar, axis=0, ignore_index=True)\n",
    "\n",
    "#WW\n",
    "for filename in all_WW:\n",
    "    df = pd.read_csv(filename, index_col=None, header=0)\n",
    "    li_WW.append(df)\n",
    "\n",
    "WW = pd.concat(li_WW, axis=0, ignore_index=True)\n",
    "\n",
    "#ZZ\n",
    "for filename in all_ZZ:\n",
    "    df = pd.read_csv(filename, index_col=None, header=0)\n",
    "    li_ZZ.append(df)\n",
    "\n",
    "ZZ = pd.concat(li_ZZ, axis=0, ignore_index=True)\n",
    "\n",
    "#ZW\n",
    "for filename in all_ZW:\n",
    "    df = pd.read_csv(filename, index_col=None, header=0)\n",
    "    li_ZW.append(df)\n",
    "\n",
    "ZW = pd.concat(li_ZW, axis=0, ignore_index=True)\n",
    "\n",
    "#Z plus jets\n",
    "for filename in all_Zplusjets:\n",
    "    df = pd.read_csv(filename, index_col=None, header=0)\n",
    "    li_Zplusjets.append(df)\n",
    "\n",
    "Z_plus_jets = pd.concat(li_Zplusjets, axis=0, ignore_index=True)\n",
    "\n",
    "Diboson = pd.concat([WW, ZZ, ZW],axis=0)"
   ]
  },
  {
   "cell_type": "code",
   "execution_count": 5,
   "metadata": {},
   "outputs": [
    {
     "name": "stdout",
     "output_type": "stream",
     "text": [
      "Available observables : \n",
      "\n",
      " ['pt_l1' 'pt_l2' 'E_l1' 'E_l2' 'eta_l1' 'eta_l2' 'phi_l1' 'phi_l2'\n",
      " 'DeltaR_l1l2' 'DeltaPhi_l1l2' 'DeltaTheta_l1l2' 'DeltaEta_l1l2'\n",
      " 'cos_l1l2' 'pt_l1_CM' 'pt_l2_CM' 'E_l1_CM' 'E_l2_CM' 'eta_l1_CM'\n",
      " 'eta_l2_CM' 'phi_l1_CM' 'phi_l2_CM' 'DeltaR_l1l2_CM' 'DeltaPhi_l1l2_CM'\n",
      " 'DeltaTheta_l1l2_CM' 'DeltaEta_l1l2_CM' 'cos_l1l2_CM' 'b2_l1l2' 'b4_l1l2'\n",
      " 'M_l1l2' 'SpinCorr_Rcosl1' 'SpinCorr_Rcosl2' 'SpinCorr_Ncosl1'\n",
      " 'SpinCorr_Ncosl2' 'mphi1' 'M_l1l2_CM' 'xs_weight']\n"
     ]
    }
   ],
   "source": [
    "print(\"Available observables : \\n\\n {}\".format(np.transpose(list(Diboson))))"
   ]
  },
  {
   "cell_type": "code",
   "execution_count": 6,
   "metadata": {},
   "outputs": [
    {
     "name": "stdout",
     "output_type": "stream",
     "text": [
      "Number of expected background events/bin: \n",
      " [2110876034   41983349    6196867    1528747     514771     196578\n",
      "     109457      27366      39312       1574        295        265\n",
      "      12883         25          8          9          7          0\n",
      "          2          6          2          0          0      12384\n",
      "          0          0          0          0          0          0]\n",
      "\n",
      "\n",
      "Number of expected signal events/bin: \n",
      " [423 646 567 433 372 246 185 104 101  57  42  29  26   8  11   7   5   2\n",
      "   2   0   1   1   0   0   0   0   0   0   0   0]\n",
      "\n",
      "\n",
      "Number of expected signal + background events \n",
      " [2110876457   41983995    6197434    1529180     515143     196824\n",
      "     109642      27470      39413       1631        337        294\n",
      "      12909         33         19         16         12          2\n",
      "          4          6          3          1          0      12384\n",
      "          0          0          0          0          0          0]\n"
     ]
    }
   ],
   "source": [
    "number_of_bins = 30\n",
    "Obs = 'pt_l1'\n",
    "lumi = 300.\n",
    "\n",
    "Get_events_background = Diboson[Obs].pipe(lambda s: pd.Series(np.histogram(s, range=(Diboson[Obs].min(), Diboson[Obs].max()), bins=number_of_bins, weights=Diboson['xs_weight']*1000*lumi)))[0] + \\\n",
    "                     Z_plus_jets[Obs].pipe(lambda s: pd.Series(np.histogram(s, range=(Diboson[Obs].min(), Diboson[Obs].max()), bins=number_of_bins, weights=Z_plus_jets['xs_weight']*1000*lumi)))[0] + \\\n",
    "                     ttbar[Obs].pipe(lambda s: pd.Series(np.histogram(s, range=(Diboson[Obs].min(), Diboson[Obs].max()), bins=number_of_bins, weights=ttbar['xs_weight']*1000*lumi)))[0]\n",
    "Get_events_background = np.array([int(s) for s in Get_events_background])\n",
    "\n",
    "Get_events_signal = Signal[Obs].pipe(lambda s: pd.Series(np.histogram(s, range=(Diboson[Obs].min(), Signal[Obs].max()), bins=number_of_bins, weights=Signal['xs_weight']*1000*lumi)))[0]\n",
    "Get_events_signal = np.array([int(s) for s in Get_events_signal])\n",
    "\n",
    "print(\"Number of expected background events/bin: \\n {}\".format(Get_events_background))\n",
    "print(\"\\n\")\n",
    "print(\"Number of expected signal events/bin: \\n {}\".format(Get_events_signal))\n",
    "print(\"\\n\")\n",
    "print(\"Number of expected signal + background events \\n {}\".format(Get_events_background + Get_events_signal))\n"
   ]
  },
  {
   "cell_type": "markdown",
   "metadata": {},
   "source": [
    "# Generate Poisson equivalent distributions for signal and backgrounds"
   ]
  },
  {
   "cell_type": "code",
   "execution_count": 7,
   "metadata": {},
   "outputs": [
    {
     "name": "stderr",
     "output_type": "stream",
     "text": [
      "100%|██████████| 100000/100000 [07:26<00:00, 223.90it/s]\n"
     ]
    }
   ],
   "source": [
    "Features = ['Log_prob_S', 'Log_prob_B', 'Log_probM_S', 'Log_probM_B']\n",
    "\n",
    "df = pd.DataFrame(columns=Features)\n",
    "\n",
    "#Number of pseudo experiments\n",
    "N = 100_000\n",
    "\n",
    "#Arrays with the number of background events and the number of signal+background events\n",
    "Background = Get_events_background\n",
    "Signal_plus_background = Get_events_background + Get_events_signal\n",
    "\n",
    "#Up to which bins to use\n",
    "number_of_bins = np.where(Get_events_background == 0)[0][0]\n",
    "\n",
    "for idx in tqdm(range(0, N)):\n",
    "    \n",
    "    #if idx == 10:\n",
    "    #    break\n",
    "    \n",
    "    with warnings.catch_warnings():\n",
    "        warnings.filterwarnings('error')\n",
    "        try:\n",
    "    \n",
    "            # ----- Signal -----\n",
    "            # Create new data that is poisson distributed based on the orignal simulated one\n",
    "            New_events_signal = np.array([ np.random.poisson(Signal_plus_background[i]) for i in range(0, number_of_bins) ])\n",
    "\n",
    "            # For the background, stay fixed\n",
    "            New_events_background = Background\n",
    "\n",
    "            # ----- Get probabilities ----- \n",
    "            Get_probabilities_poisson_S = np.array([poisson.logpmf(k=New_events_signal[n], mu=New_events_background[n]) for n in range(0,number_of_bins)])    \n",
    "            Get_probabilities_poisson_B = np.array([poisson.logpmf(k=New_events_background[n], mu=New_events_signal[n]) for n in range(0,number_of_bins)])\n",
    "            \n",
    "            Get_probabilities_multinomial_S = multinomial.logpmf(x=New_events_signal[:number_of_bins], n=New_events_signal[:number_of_bins].sum(), p=Get_probabilities_poisson_S) \n",
    "            Get_probabilities_multinomial_B = multinomial.logpmf(x=New_events_background[:number_of_bins], n=New_events_background[:number_of_bins].sum(), p=Get_probabilities_poisson_B)\n",
    "            \n",
    "            Get_product_S = np.prod(Get_probabilities_poisson_S, where=( (Get_probabilities_poisson_S != 0) & (Get_probabilities_poisson_S != np.inf) & (Get_probabilities_poisson_S != -np.inf) ))\n",
    "            Get_product_B = np.prod(Get_probabilities_poisson_B, where=( (Get_probabilities_poisson_B != 0) & (Get_probabilities_poisson_B != np.inf) & (Get_probabilities_poisson_B != -np.inf) ))\n",
    "            Get_prob_S = np.log(Get_product_S/Get_product_B)\n",
    "            Get_probM_S = np.log(Get_probabilities_multinomial_S/Get_probabilities_multinomial_B)\n",
    "\n",
    "            # For the background, stay fixed\n",
    "            New_events_background = np.array([ np.random.poisson(Background[i]) for i in range(0, number_of_bins) ])\n",
    "            New_events_signal = Signal_plus_background\n",
    "\n",
    "            # ----- Get probabilities ----- \n",
    "            Get_probabilities_poisson_S = np.array([poisson.logpmf(k=New_events_background[n], mu=New_events_signal[n]) for n in range(0,number_of_bins)])    \n",
    "            Get_probabilities_poisson_B = np.array([poisson.logpmf(k=New_events_signal[n], mu=New_events_background[n]) for n in range(0,number_of_bins)])\n",
    "            \n",
    "            Get_probabilities_multinomial_S = multinomial.logpmf(x=New_events_background[:number_of_bins], n=New_events_background[:number_of_bins].sum(), p=Get_probabilities_poisson_S) \n",
    "            Get_probabilities_multinomial_B = multinomial.logpmf(x=New_events_signal[:number_of_bins], n=New_events_signal[:number_of_bins].sum(), p=Get_probabilities_poisson_B)\n",
    "            \n",
    "            \n",
    "            Get_product_S = np.prod(Get_probabilities_poisson_S, where=( (Get_probabilities_poisson_S != 0) & (Get_probabilities_poisson_S != np.inf) & (Get_probabilities_poisson_S != -np.inf) ))\n",
    "            Get_product_B = np.prod(Get_probabilities_poisson_B, where=( (Get_probabilities_poisson_B != 0) & (Get_probabilities_poisson_B != np.inf) & (Get_probabilities_poisson_B != -np.inf) ))\n",
    "            Get_prob_B = np.log(Get_product_S/Get_product_B)\n",
    "            Get_probM_B = np.log(Get_probabilities_multinomial_S/Get_probabilities_multinomial_B)\n",
    "\n",
    "            Obs = [Get_prob_S, Get_prob_B, Get_probM_S, Get_probM_B]\n",
    "\n",
    "            # Save data data into a dataframe for further manipulation (df_S)\n",
    "            entry = pd.DataFrame([Obs], columns=Features)\n",
    "            df = df.append(entry)\n",
    "\n",
    "        except Warning as e:\n",
    "            continue\n",
    "\n",
    "\n"
   ]
  },
  {
   "cell_type": "markdown",
   "metadata": {},
   "source": [
    "# Plots"
   ]
  },
  {
   "cell_type": "code",
   "execution_count": 8,
   "metadata": {},
   "outputs": [
    {
     "data": {
      "image/png": "[encoded data removed]",
      "text/plain": [
       "<Figure size 756x396 with 1 Axes>"
      ]
     },
     "metadata": {
      "needs_background": "light"
     },
     "output_type": "display_data"
    }
   ],
   "source": [
    "mpl.rcParams['text.usetex']=True \n",
    "mpl.rcParams['text.latex.preamble'] = r'\\usepackage{bm}'\n",
    "plt.rcParams.update({'font.size': 15})\n",
    "mpl.rcParams[\"legend.framealpha\"] = 1.0\n",
    "mpl.rcParams['axes.spines.right'] = False\n",
    "mpl.rcParams['axes.spines.top'] = False\n",
    "mpl.rcParams[\"figure.figsize\"] = [10.5, 5.5]\n",
    "\n",
    "f, ax = plt.subplots()\n",
    "\n",
    "#Get bins for gaussian fit\n",
    "_, bins_S, _ = plt.hist(df['Log_prob_S'].to_numpy(), bins=100, density=1 , alpha=0.5)\n",
    "_, bins_B, _ = plt.hist(df['Log_prob_B'].to_numpy(), bins=100, density=1 , alpha=0.5)\n",
    "#Close so plots are not drawn\n",
    "plt.clf()\n",
    "\n",
    "#Signal plot\n",
    "mu_S, sigma_S = scipy.stats.norm.fit(df['Log_prob_S'].to_numpy())\n",
    "best_fit_line_S = scipy.stats.norm.pdf(bins_S, mu_S, sigma_S)\n",
    "df['Log_prob_S'].hist(bins=100, color='red', histtype = 'step', density=True)\n",
    "plt.plot(bins_S, best_fit_line_S, '-r')\n",
    "\n",
    "#Background plot\n",
    "mu_B, sigma_B = scipy.stats.norm.fit(df['Log_prob_B'].to_numpy())\n",
    "best_fit_line_B = scipy.stats.norm.pdf(bins_B, mu_B, sigma_B)\n",
    "df['Log_prob_B'].hist(bins=100, color='blue', histtype = 'step', density=True)\n",
    "plt.plot(bins_B, best_fit_line_B, '-b')\n",
    "\n",
    "#Calculate p-value and translate to sigmas\n",
    "p_value = 1 - norm.cdf(mu_S, mu_B, sigma_B)\n",
    "sigma = (mu_S - mu_B)/sigma_B\n",
    "\n",
    "\n",
    "plt.legend(['Signal', 'Background'], loc='upper right')\n",
    "plt.grid(\"on\")\n",
    "plt.ylabel('Events')\n",
    "plt.xlabel(r'$\\ln(\\mathcal{P}_1/\\mathcal{P}_0)$')\n",
    "plt.title(r'Gaussian fits determined from $p_T (\\mu^-)$ distribution')\n",
    "plt.plot(np.ones(100)*mu_S, np.linspace(0,max(best_fit_line_S),100), '--r')\n",
    "\n",
    "props = dict(boxstyle='round', facecolor='wheat', alpha=0.3)\n",
    "plt.text(0.02, 0.90, '$\\mathrm{{LHC}},~\\sqrt{{s}} = 13.6~\\mathrm{{TeV}}$ \\n $\\mathcal{{L}}={l}~\\mathrm{{fb^{{-1}}}}$'.format(l=int(lumi)), transform=plt.gca().transAxes, bbox=props)\n",
    "if p_value == 0.0:\n",
    "    plt.text(0.02, 0.81, '$p-\\mathrm{{value}} = 0.0000\\dots~({0:.3f}~\\sigma)$'.format(sigma), transform=plt.gca().transAxes, bbox=props)\n",
    "elif p_value != 0.0:\n",
    "    plt.text(0.02, 0.81, '$p-\\mathrm{{value}} = {a}~({b}~\\sigma)$'.format(a=latex_float(p_value), b=np.round(sigma,3)), transform=plt.gca().transAxes, bbox=props)\n",
    "    \n",
    "#plt.ylim(0, 200)    \n",
    "plt.show()\n",
    "#plt.savefig('/home/felipe/JoaoPino/1-LQsCollider_project/Plots/pT_mu_100k_pseudo_3000fb.pdf')\n"
   ]
  },
  {
   "cell_type": "code",
   "execution_count": null,
   "metadata": {},
   "outputs": [],
   "source": []
  },
  {
   "cell_type": "code",
   "execution_count": null,
   "metadata": {},
   "outputs": [],
   "source": []
  },
  {
   "cell_type": "code",
   "execution_count": null,
   "metadata": {},
   "outputs": [],
   "source": []
  }
 ],
 "metadata": {
  "kernelspec": {
   "display_name": "MG5-py3",
   "language": "python",
   "name": "madgraph-py3"
  },
  "language_info": {
   "codemirror_mode": {
    "name": "ipython",
    "version": 3
   },
   "file_extension": ".py",
   "mimetype": "text/x-python",
   "name": "python",
   "nbconvert_exporter": "python",
   "pygments_lexer": "ipython3",
   "version": "3.7.6"
  }
 },
 "nbformat": 4,
 "nbformat_minor": 4
}
