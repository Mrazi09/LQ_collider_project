{
 "cells": [
  {
   "cell_type": "code",
   "execution_count": 1,
   "metadata": {},
   "outputs": [],
   "source": [
    "import pandas as pd\n",
    "import scipy\n",
    "from scipy.stats import poisson\n",
    "from scipy.stats import multinomial\n",
    "from scipy.stats import norm\n",
    "import warnings\n",
    "\n",
    "import glob\n",
    "import numpy as np\n",
    "from tqdm import tqdm\n",
    "\n",
    "from matplotlib import pyplot as plt\n",
    "import matplotlib as mpl"
   ]
  },
  {
   "cell_type": "code",
   "execution_count": 2,
   "metadata": {},
   "outputs": [],
   "source": [
    "def latex_float(f):\n",
    "    float_str = \"{0:.2g}\".format(f)\n",
    "    if \"e\" in float_str:\n",
    "        base, exponent = float_str.split(\"e\")\n",
    "        return r\"{0} \\times 10^{{{1}}}\".format(base, int(exponent))\n",
    "    else:\n",
    "        return float_str"
   ]
  },
  {
   "cell_type": "code",
   "execution_count": 3,
   "metadata": {},
   "outputs": [],
   "source": [
    "path = \"/home/felipe/JoaoPino/1-LQsCollider_project/Data_MadGraph/Full_data\"\n",
    "\n",
    "all_Signal = glob.glob(path + \"/Correct_weights/LQ_Tchannel_1p5TeV.csv\")\n",
    "all_ttbar = glob.glob(path + \"/ttbar_*.csv\")\n",
    "all_WW = glob.glob(path + \"/WW_*.csv\")\n",
    "all_ZZ = glob.glob(path + \"/ZZ_*.csv\")\n",
    "all_ZW = glob.glob(path + \"/ZW_*.csv\")\n",
    "all_Zplusjets = glob.glob(path + \"/Z_plus_jets_*.csv\")\n"
   ]
  },
  {
   "cell_type": "code",
   "execution_count": 4,
   "metadata": {},
   "outputs": [],
   "source": [
    "li_Signal = []\n",
    "li_ttbar = []\n",
    "li_WW = []\n",
    "li_ZZ = []\n",
    "li_ZW = []\n",
    "li_Zplusjets = []\n",
    "\n",
    "#Signal\n",
    "for filename in all_Signal:\n",
    "    df = pd.read_csv(filename, index_col=None, header=0)\n",
    "    li_Signal.append(df)\n",
    "\n",
    "Signal = pd.concat(li_Signal, axis=0, ignore_index=True)\n",
    "\n",
    "#ttbar\n",
    "for filename in all_ttbar:\n",
    "    df = pd.read_csv(filename, index_col=None, header=0)\n",
    "    li_ttbar.append(df)\n",
    "\n",
    "ttbar = pd.concat(li_ttbar, axis=0, ignore_index=True)\n",
    "\n",
    "#WW\n",
    "for filename in all_WW:\n",
    "    df = pd.read_csv(filename, index_col=None, header=0)\n",
    "    li_WW.append(df)\n",
    "\n",
    "WW = pd.concat(li_WW, axis=0, ignore_index=True)\n",
    "\n",
    "#ZZ\n",
    "for filename in all_ZZ:\n",
    "    df = pd.read_csv(filename, index_col=None, header=0)\n",
    "    li_ZZ.append(df)\n",
    "\n",
    "ZZ = pd.concat(li_ZZ, axis=0, ignore_index=True)\n",
    "\n",
    "#ZW\n",
    "for filename in all_ZW:\n",
    "    df = pd.read_csv(filename, index_col=None, header=0)\n",
    "    li_ZW.append(df)\n",
    "\n",
    "ZW = pd.concat(li_ZW, axis=0, ignore_index=True)\n",
    "\n",
    "#Z plus jets\n",
    "for filename in all_Zplusjets:\n",
    "    df = pd.read_csv(filename, index_col=None, header=0)\n",
    "    li_Zplusjets.append(df)\n",
    "\n",
    "Z_plus_jets = pd.concat(li_Zplusjets, axis=0, ignore_index=True)\n",
    "\n",
    "Diboson = pd.concat([WW, ZZ, ZW],axis=0)"
   ]
  },
  {
   "cell_type": "code",
   "execution_count": 5,
   "metadata": {},
   "outputs": [],
   "source": [
    "#Reweight backgrounds to higher-order cross sections\n",
    "\n",
    "#Cross sections: Sums all values in collumn 'weight' in each data frame\n",
    "#Divided by the number of samples. I have batches of 10 samples, each with 100K events\n",
    "\n",
    "#ttbar\n",
    "ttbar_N3LO = 988.57\n",
    "ttbar_LO = 93.32\n",
    "ttbar_new_weight = (ttbar['xs_weight']*ttbar_N3LO)/ttbar_LO\n",
    "xsec_N3LO_ttbar = (ttbar_new_weight.sum()*1000)/10\n",
    "\n",
    "#Z plus jets\n",
    "Zjets_NNLO = 6.33*1e4\n",
    "Zjets_LO = 4128.0\n",
    "Zjets_new_weight = (Z_plus_jets['xs_weight']*Zjets_NNLO)/Zjets_LO\n",
    "xsec_NNLO_Zjets = (Zjets_new_weight.sum()*1000)/10\n",
    "\n",
    "#VV +jets. Cross sections for each individual process \n",
    "#WW + jets\n",
    "WW_NLO = 124.31\n",
    "WW_LO = 77.22\n",
    "WW_new_weight = (WW['xs_weight']*WW_NLO)/WW_LO\n",
    "xsec_NNLO_WW = (WW_new_weight.sum()*1000)/10\n",
    "\n",
    "#WZ + jets\n",
    "ZW_NLO = 51.82\n",
    "ZW_LO = 0.9827\n",
    "ZW_new_weight = (ZW['xs_weight']*ZW_NLO)/ZW_LO\n",
    "xsec_NNLO_ZW = (ZW_new_weight.sum()*1000)/10\n",
    "\n",
    "#ZZ + jets\n",
    "ZZ_NLO = 17.72\n",
    "ZZ_LO = 0.03654\n",
    "ZZ_new_weight = (ZZ['xs_weight']*ZZ_NLO)/ZZ_LO\n",
    "xsec_NNLO_ZZ = (ZZ_new_weight.sum()*1000)/10\n"
   ]
  },
  {
   "cell_type": "code",
   "execution_count": 6,
   "metadata": {},
   "outputs": [],
   "source": [
    "ttbar['xs_weight'] = ttbar_new_weight\n",
    "Z_plus_jets['xs_weight'] = Zjets_new_weight\n",
    "WW['xs_weight'] = WW_new_weight\n",
    "ZW['xs_weight'] = ZW_new_weight\n",
    "ZZ['xs_weight'] = ZZ_new_weight\n",
    "\n",
    "Diboson = pd.concat([WW, ZZ, ZW],axis=0)"
   ]
  },
  {
   "cell_type": "code",
   "execution_count": 7,
   "metadata": {},
   "outputs": [
    {
     "name": "stdout",
     "output_type": "stream",
     "text": [
      "Available observables : \n",
      "\n",
      " ['pt_l1' 'pt_l2' 'E_l1' 'E_l2' 'eta_l1' 'eta_l2' 'phi_l1' 'phi_l2'\n",
      " 'DeltaR_l1l2' 'DeltaPhi_l1l2' 'DeltaTheta_l1l2' 'DeltaEta_l1l2'\n",
      " 'cos_l1l2' 'pt_l1_CM' 'pt_l2_CM' 'E_l1_CM' 'E_l2_CM' 'eta_l1_CM'\n",
      " 'eta_l2_CM' 'phi_l1_CM' 'phi_l2_CM' 'DeltaR_l1l2_CM' 'DeltaPhi_l1l2_CM'\n",
      " 'DeltaTheta_l1l2_CM' 'DeltaEta_l1l2_CM' 'cos_l1l2_CM' 'b2_l1l2' 'b4_l1l2'\n",
      " 'M_l1l2' 'SpinCorr_Rcosl1' 'SpinCorr_Rcosl2' 'SpinCorr_Ncosl1'\n",
      " 'SpinCorr_Ncosl2' 'mphi1' 'M_l1l2_CM' 'xs_weight']\n"
     ]
    }
   ],
   "source": [
    "print(\"Available observables : \\n\\n {}\".format(np.transpose(list(Diboson))))"
   ]
  },
  {
   "cell_type": "code",
   "execution_count": 8,
   "metadata": {},
   "outputs": [
    {
     "name": "stdout",
     "output_type": "stream",
     "text": [
      "Number of expected background events/bin: \n",
      " [323736722514   3988932345     69912022     10204657      1456984\n",
      "       276274        97650        53431        18120        11301\n",
      "         1555         5408            0            0            0\n",
      "         1553            0            0            0            0\n",
      "            0            0            0            0            0\n",
      "            0            0            0            0            0]\n",
      "\n",
      "\n",
      "Number of expected signal events/bin: \n",
      " [512 623 519 437 341 264 180 138  93  75  54  38  28  23  10  11   7   3\n",
      "   3   2   0   1   0   0   0   0   0   0   0   0]\n",
      "\n",
      "\n",
      "Number of expected signal + background events \n",
      " [323736723026   3988932968     69912541     10205094      1457325\n",
      "       276538        97830        53569        18213        11376\n",
      "         1609         5446           28           23           10\n",
      "         1564            7            3            3            2\n",
      "            0            1            0            0            0\n",
      "            0            0            0            0            0]\n",
      "\n",
      "\n",
      "Collider luminosity: 3000.0 fb^(-1)\n",
      "\n",
      "\n",
      "Distribution for the calculation E_l2\n",
      "\n",
      "\n",
      "Signal over background [8.99857992e-02 9.86415099e-01 6.20713836e+00 1.36798782e+01\n",
      " 2.82505552e+01 5.02266160e+01 5.76018433e+01 5.97011140e+01\n",
      " 6.90881959e+01 7.05509435e+01 1.36939445e+02 5.16731879e+01\n",
      " 2.80000000e+13 2.30000000e+13 1.00000000e+13 2.79130284e+01\n",
      " 7.00000000e+12 3.00000000e+12 3.00000000e+12 2.00000000e+12\n",
      " 0.00000000e+00 1.00000000e+12 0.00000000e+00 0.00000000e+00\n",
      " 0.00000000e+00 0.00000000e+00 0.00000000e+00 0.00000000e+00\n",
      " 0.00000000e+00 0.00000000e+00]\n",
      "\n",
      "\n",
      "Where it is good to calculate significance [False False  True  True  True  True  True  True  True  True  True  True\n",
      "  True  True  True  True  True  True  True  True False  True False False\n",
      " False False False False False False]\n"
     ]
    }
   ],
   "source": [
    "number_of_bins = 30\n",
    "Obs = 'E_l2'\n",
    "lumi = 3000.\n",
    "#The scale factor can be used to artificially tune the cross-section. This was used to determined the bounds for \n",
    "#Fig.6 of the paper. To use the correct xsec, the scale factor must be 1.0 !!!!\n",
    "scale = 1.0 \n",
    "\n",
    "#Multiply weights for both backhrounds and signal to put into units of fb\n",
    "Get_events_background_l1 = Diboson[Obs].pipe(lambda s: pd.Series(np.histogram(s, range=(Diboson[Obs].min(), Diboson[Obs].max()), bins=number_of_bins, weights=Diboson['xs_weight']*1000*lumi)))[0] + \\\n",
    "                     Z_plus_jets[Obs].pipe(lambda s: pd.Series(np.histogram(s, range=(Diboson[Obs].min(), Diboson[Obs].max()), bins=number_of_bins, weights=Z_plus_jets['xs_weight']*1000*lumi)))[0] + \\\n",
    "                     ttbar[Obs].pipe(lambda s: pd.Series(np.histogram(s, range=(Diboson[Obs].min(), Diboson[Obs].max()), bins=number_of_bins, weights=ttbar['xs_weight']*1000*lumi)))[0]\n",
    "Get_events_background_l1 = np.array([int(s) for s in Get_events_background_l1])\n",
    "\n",
    "Get_events_signal_l1 = Signal[Obs].pipe(lambda s: pd.Series(np.histogram(s, range=(Diboson[Obs].min(), Signal[Obs].max()), bins=number_of_bins, weights=scale*Signal['xs_weight']*lumi*1000)))[0]\n",
    "Get_events_signal_l1 = np.array([int(s) for s in Get_events_signal_l1])\n",
    "\n",
    "print(\"Number of expected background events/bin: \\n {}\".format(Get_events_background_l1))\n",
    "print(\"\\n\")\n",
    "print(\"Number of expected signal events/bin: \\n {}\".format(Get_events_signal_l1))\n",
    "print(\"\\n\")\n",
    "print(\"Number of expected signal + background events \\n {}\".format(Get_events_background_l1 + Get_events_signal_l1))\n",
    "print(\"\\n\")\n",
    "print(\"Collider luminosity: {} fb^(-1)\".format(lumi))\n",
    "print(\"\\n\")\n",
    "print(\"Distribution for the calculation {}\".format(Obs))\n",
    "print(\"\\n\")\n",
    "S_over_B = (Get_events_signal_l1/np.sqrt(Get_events_background_l1+1e-20))*100\n",
    "print(\"Signal over background {}\".format(S_over_B))\n",
    "print(\"\\n\")\n",
    "print(\"Where it is good to calculate significance {}\".format(S_over_B > 1))\n"
   ]
  },
  {
   "cell_type": "markdown",
   "metadata": {},
   "source": [
    "# Generate Poisson equivalent distributions for signal and backgrounds (for a single distribution)"
   ]
  },
  {
   "cell_type": "code",
   "execution_count": 9,
   "metadata": {},
   "outputs": [
    {
     "name": "stderr",
     "output_type": "stream",
     "text": [
      "100%|██████████| 50000/50000 [02:35<00:00, 321.51it/s]\n"
     ]
    }
   ],
   "source": [
    "Features = ['Log_prob_S', 'Log_prob_B']\n",
    "\n",
    "df = pd.DataFrame(columns=Features)\n",
    "\n",
    "#Number of pseudo experiments\n",
    "#Run only 5_000 to make sure stuff works. For the results in the paper, I ran 50K for each obs.\n",
    "N = 50_000\n",
    "\n",
    "#Arrays with the number of background events and the number of signal+background events\n",
    "Background = Get_events_background_l1\n",
    "Signal_plus_background = Get_events_background_l1 + Get_events_signal_l1\n",
    "\n",
    "#Up to which bins to use\n",
    "number_of_bins = np.where(Get_events_background_l1 == 0)[0][0]\n",
    "\n",
    "for idx in tqdm(range(0, N)):\n",
    "    with warnings.catch_warnings():\n",
    "        warnings.filterwarnings('error')\n",
    "        try:\n",
    "    \n",
    "            # ----- Signal -----\n",
    "            # Create new data that is poisson distributed based on the orignal simulated one\n",
    "            New_events_signal = np.array([ np.random.poisson(Signal_plus_background[i]) for i in range(0, number_of_bins) ])\n",
    "\n",
    "            # For the background, stay fixed\n",
    "            New_events_background = Background\n",
    "\n",
    "            # ----- Get probabilities ----- \n",
    "            Get_probabilities_poisson_S = np.array([poisson.logpmf(k=New_events_signal[n], mu=New_events_background[n]) for n in range(0,number_of_bins)])    \n",
    "            Get_probabilities_poisson_B = np.array([poisson.logpmf(k=New_events_background[n], mu=New_events_signal[n]) for n in range(0,number_of_bins)])\n",
    "            \n",
    "            Get_product_S = np.prod(Get_probabilities_poisson_S)\n",
    "            Get_product_B = np.prod(Get_probabilities_poisson_B)\n",
    "            Get_prob_S = np.log(Get_product_S/Get_product_B)\n",
    "\n",
    "            # ----- Background -----\n",
    "            # Create new data that is poisson distributed based on the orignal simulated one\n",
    "            New_events_background = np.array([ np.random.poisson(Background[i]) for i in range(0, number_of_bins) ])\n",
    "            \n",
    "            # For the signal, stay fixed\n",
    "            New_events_signal = Signal_plus_background\n",
    "            \n",
    "            # ----- Get probabilities ----- \n",
    "            Get_probabilities_poisson_S = np.array([poisson.logpmf(k=New_events_background[n], mu=New_events_signal[n]) for n in range(0,number_of_bins)])    \n",
    "            Get_probabilities_poisson_B = np.array([poisson.logpmf(k=New_events_signal[n], mu=New_events_background[n]) for n in range(0,number_of_bins)])\n",
    "            \n",
    "            Get_product_S = np.prod(Get_probabilities_poisson_S)\n",
    "            Get_product_B = np.prod(Get_probabilities_poisson_B)            \n",
    "            Get_prob_B = np.log(Get_product_S/Get_product_B)\n",
    "\n",
    "            Obs = [Get_prob_S, Get_prob_B]\n",
    "\n",
    "            # Save data data into a dataframe for further manipulation (df_S)\n",
    "            entry = pd.DataFrame([Obs], columns=Features)\n",
    "            df = df.append(entry)\n",
    "\n",
    "        except Warning as e:\n",
    "            continue\n"
   ]
  },
  {
   "cell_type": "markdown",
   "metadata": {},
   "source": [
    "# Plots"
   ]
  },
  {
   "cell_type": "code",
   "execution_count": 10,
   "metadata": {},
   "outputs": [
    {
     "data": {
      "image/png": "[encoded data removed]",
      "text/plain": [
       "<Figure size 756x396 with 1 Axes>"
      ]
     },
     "metadata": {
      "needs_background": "light"
     },
     "output_type": "display_data"
    }
   ],
   "source": [
    "mpl.rcParams['text.usetex']=True \n",
    "mpl.rcParams['text.latex.preamble'] = r'\\usepackage{bm}'\n",
    "plt.rcParams.update({'font.size': 15})\n",
    "mpl.rcParams[\"legend.framealpha\"] = 1.0\n",
    "mpl.rcParams['axes.spines.right'] = False\n",
    "mpl.rcParams['axes.spines.top'] = False\n",
    "mpl.rcParams[\"figure.figsize\"] = [10.5, 5.5]\n",
    "\n",
    "f, ax = plt.subplots()\n",
    "\n",
    "# If true, it will calculate the p-value based on a gaussian fit to the distributions\n",
    "# If false, the p-value is calculated based on the median of the histograms\n",
    "# The false option is more conservative and it is used in the paper. Although, the differences between \n",
    "# the options is not a lot.\n",
    "# If true, the gaussian fit is also plotted, while for false only the histogram is plotted, as in the paper\n",
    "\n",
    "Gauss_pval = False\n",
    "Obs_label = '$E(\\mu^+)$'\n",
    "path_and_name = '/home/felipe/JoaoPino/1-LQsCollider_project/Plots/E_mu_3000fb_1p5TeV.pdf'\n",
    "\n",
    "if Gauss_pval == True:\n",
    "    #Get bins for gaussian fit\n",
    "    _, bins_S, _ = plt.hist(df['Log_prob_S'].to_numpy(), bins=100, density=1 , alpha=0.5)\n",
    "    _, bins_B, _ = plt.hist(df['Log_prob_B'].to_numpy(), bins=100, density=1 , alpha=0.5)\n",
    "    #Close so plots are not drawn\n",
    "    plt.clf()\n",
    "    \n",
    "    #Signal plot\n",
    "    mu_S, sigma_S = scipy.stats.norm.fit(df['Log_prob_S'].to_numpy())\n",
    "    best_fit_line_S = scipy.stats.norm.pdf(bins_S, mu_S, sigma_S)\n",
    "    df['Log_prob_S'].hist(bins=100, color='red', histtype = 'step', density=True)\n",
    "    plt.plot(bins_S, best_fit_line_S, '-r')\n",
    "    \n",
    "    #Background plot\n",
    "    mu_B, sigma_B = scipy.stats.norm.fit(df['Log_prob_B'].to_numpy())\n",
    "    best_fit_line_B = scipy.stats.norm.pdf(bins_B, mu_B, sigma_B)\n",
    "    df['Log_prob_B'].hist(bins=100, color='blue', histtype = 'step', density=True)\n",
    "    plt.plot(bins_B, best_fit_line_B, '-b')\n",
    "    \n",
    "    #Calculate p-value and translate to sigmas\n",
    "    p_value = 1 - norm.cdf(mu_S, mu_B, sigma_B)\n",
    "    sigma = (mu_S - mu_B)/sigma_B\n",
    "    \n",
    "    #Plotting\n",
    "    plt.legend([r'Signal $(\\mathcal{F}_1)$', r'Background $(\\mathcal{F}_2)$'], loc='upper right')\n",
    "    plt.grid(\"on\")\n",
    "    plt.ylabel('Frequency')\n",
    "    plt.xlabel(r'$\\mathcal{F}(x_{i,\\mathrm{S}}; x_{i,\\mathrm{N}})$')\n",
    "    plt.title(r'Gaussian fits determined from {} distribution'.format(Obs_label))\n",
    "    plt.plot(np.ones(100)*mu_S, np.linspace(0,max(best_fit_line_S),100), '--r')\n",
    "    plt.plot(np.ones(100)*mu_B, np.linspace(0,max(best_fit_line_B),100), '--b')\n",
    "\n",
    "    props = dict(boxstyle='round', facecolor='wheat', alpha=0.3)\n",
    "    plt.text(0.02, 0.90, '$\\mathrm{{LHC}},~\\sqrt{{s}} = 13.6~\\mathrm{{TeV}}$ \\n $\\mathcal{{L}}={l}~\\mathrm{{fb^{{-1}}}}$'.format(l=int(lumi)), transform=plt.gca().transAxes, bbox=props)\n",
    "    if p_value == 0.0:\n",
    "        plt.text(0.02, 0.81, '$p-\\mathrm{{value}} = 0.0000\\dots~({0:.3f}~\\sigma)$'.format(sigma), transform=plt.gca().transAxes, bbox=props)\n",
    "    elif p_value != 0.0:\n",
    "        plt.text(0.02, 0.81, '$p-\\mathrm{{value}} = {a}~({b}~\\sigma)$'.format(a=latex_float(p_value), b=np.round(sigma,3)), transform=plt.gca().transAxes, bbox=props)\n",
    "    \n",
    "    plt.savefig('{}'.format(path_and_name))\n",
    "    plt.show()\n",
    "    \n",
    "if Gauss_pval == False:\n",
    "    \n",
    "    #Draw histograms\n",
    "    hist_S = df['Log_prob_S'].hist(bins=100, color='red', histtype = 'step', density=True)\n",
    "    hist_B = df['Log_prob_B'].hist(bins=100, color='blue', histtype = 'step', density=True)\n",
    "    \n",
    "    #Calculate sigmas based on median of the pdfs\n",
    "    mu_S, mu_B = np.median(df['Log_prob_S'].to_numpy()), np.median(df['Log_prob_B'].to_numpy())\n",
    "    sigma_B = np.std(df['Log_prob_B'].to_numpy())\n",
    "    sigma = (mu_S - mu_B)/sigma_B\n",
    "    p_value = scipy.stats.norm.sf(np.abs(sigma))\n",
    "    \n",
    "    #Plotting\n",
    "    plt.legend([r'Signal $(\\mathcal{F}_1)$', r'Background $(\\mathcal{F}_2)$'], loc='upper right')\n",
    "    plt.grid(\"on\")\n",
    "    plt.ylabel('Frequency')\n",
    "    plt.xlabel(r'$\\mathcal{F}(x_{i,\\mathrm{S}}; x_{i,\\mathrm{N}})$')\n",
    "    plt.title(r'PDF distributions determined from {} distribution'.format(Obs_label))\n",
    "    plt.plot(np.ones(100)*mu_S, np.linspace(0,hist_S.yaxis.get_data_interval()[-1],100), '--r')\n",
    "    plt.plot(np.ones(100)*mu_B, np.linspace(0,hist_B.yaxis.get_data_interval()[-1],100), '--b')\n",
    "\n",
    "    props = dict(boxstyle='round', facecolor='wheat', alpha=0.3)\n",
    "    plt.text(0.02, 0.90, '$\\mathrm{{LHC}},~\\sqrt{{s}} = 13.6~\\mathrm{{TeV}}$ \\n $\\mathcal{{L}}={l}~\\mathrm{{fb^{{-1}}}}$'.format(l=int(lumi)), transform=plt.gca().transAxes, bbox=props)\n",
    "    if p_value == 0.0:\n",
    "        plt.text(0.02, 0.81, '$p-\\mathrm{{value}} = 0.0000\\dots~({0:.3f}~\\sigma)$'.format(sigma), transform=plt.gca().transAxes, bbox=props)\n",
    "    elif p_value != 0.0:\n",
    "        plt.text(0.02, 0.81, '$p-\\mathrm{{value}} = {a}~({b}~\\sigma)$'.format(a=latex_float(p_value), b=np.round(sigma,3)), transform=plt.gca().transAxes, bbox=props)\n",
    "    \n",
    "    plt.savefig('{}'.format(path_and_name))\n",
    "    plt.show()"
   ]
  },
  {
   "cell_type": "markdown",
   "metadata": {},
   "source": [
    "# Combined significance based on the combined likelihood (as well as Stouffer's method)\n",
    "# In paper, we only show the likelihood method, but they give similar results, as one can see from running the code bellow\n",
    "# With systematics, for high masses the code will almost always give NaN's. For high masses, the cross-section is so low that \n",
    "\n",
    "$$\\Huge N_{s+b} \\sim N_s$$\n",
    "\n",
    "# So, the lists of events above the systematics are empty. As such, after 3.5 TeV, we show in the paper values taken assuming zero systematics. It does not really matter, since the $\\sigma$ values here are so small"
   ]
  },
  {
   "cell_type": "code",
   "execution_count": 11,
   "metadata": {},
   "outputs": [
    {
     "name": "stdout",
     "output_type": "stream",
     "text": [
      "Benchmark: 1p5TeV. Running observable pt_l1 at 300.0 fb^-1 ...\n",
      "Benchmark: 1p5TeV. Running observable pt_l1 at 3000.0 fb^-1 ...\n",
      "Benchmark: 1p5TeV. Running observable pt_l2 at 300.0 fb^-1 ...\n",
      "Benchmark: 1p5TeV. Running observable pt_l2 at 3000.0 fb^-1 ...\n",
      "Benchmark: 1p5TeV. Running observable E_l1 at 300.0 fb^-1 ...\n",
      "Benchmark: 1p5TeV. Running observable E_l1 at 3000.0 fb^-1 ...\n",
      "Benchmark: 1p5TeV. Running observable E_l2 at 300.0 fb^-1 ...\n",
      "Benchmark: 1p5TeV. Running observable E_l2 at 3000.0 fb^-1 ...\n",
      "Benchmark: 1p5TeV. Running observable M_l1l2 at 300.0 fb^-1 ...\n",
      "Benchmark: 1p5TeV. Running observable M_l1l2 at 3000.0 fb^-1 ...\n",
      "Benchmark: 1p5TeV. Running observable pt_l1_CM at 300.0 fb^-1 ...\n",
      "Benchmark: 1p5TeV. Running observable pt_l1_CM at 3000.0 fb^-1 ...\n",
      "Benchmark: 1p5TeV. Running observable E_l1_CM at 300.0 fb^-1 ...\n",
      "Benchmark: 1p5TeV. Running observable E_l1_CM at 3000.0 fb^-1 ...\n",
      "\n",
      "\n",
      "====================================================\n",
      "======== COMBINED SIGNIFICANCE (STOUFFER'S) ========\n",
      "Mass benchmark 1p5TeV\n",
      "For 300 fb^-1: σ = 2.886691618066554\n",
      "For 3000 fb^-1: σ = 8.88496584733655\n",
      "===================================================\n",
      "\n",
      "====================================================\n",
      "======== COMBINED SIGNIFICANCE (LIKELIHOOD) ========\n",
      "Mass benchmark 1p5TeV\n",
      "For 300 fb^-1: σ = 3.1698690069497597\n",
      "For 3000 fb^-1: σ = 9.753459456528963\n",
      "===================================================\n",
      "\n",
      "Benchmark: 2p5TeV. Running observable pt_l1 at 300.0 fb^-1 ...\n",
      "Benchmark: 2p5TeV. Running observable pt_l1 at 3000.0 fb^-1 ...\n",
      "Benchmark: 2p5TeV. Running observable pt_l2 at 300.0 fb^-1 ...\n",
      "Benchmark: 2p5TeV. Running observable pt_l2 at 3000.0 fb^-1 ...\n",
      "Benchmark: 2p5TeV. Running observable E_l1 at 300.0 fb^-1 ...\n",
      "Benchmark: 2p5TeV. Running observable E_l1 at 3000.0 fb^-1 ...\n",
      "Benchmark: 2p5TeV. Running observable E_l2 at 300.0 fb^-1 ...\n",
      "Benchmark: 2p5TeV. Running observable E_l2 at 3000.0 fb^-1 ...\n",
      "Benchmark: 2p5TeV. Running observable M_l1l2 at 300.0 fb^-1 ...\n",
      "Benchmark: 2p5TeV. Running observable M_l1l2 at 3000.0 fb^-1 ...\n",
      "Benchmark: 2p5TeV. Running observable pt_l1_CM at 300.0 fb^-1 ...\n",
      "Benchmark: 2p5TeV. Running observable pt_l1_CM at 3000.0 fb^-1 ...\n",
      "Benchmark: 2p5TeV. Running observable E_l1_CM at 300.0 fb^-1 ...\n",
      "Benchmark: 2p5TeV. Running observable E_l1_CM at 3000.0 fb^-1 ...\n",
      "\n",
      "\n",
      "====================================================\n",
      "======== COMBINED SIGNIFICANCE (STOUFFER'S) ========\n",
      "Mass benchmark 2p5TeV\n",
      "For 300 fb^-1: σ = 1.175076040498395\n",
      "For 3000 fb^-1: σ = 4.587446967861773\n",
      "===================================================\n",
      "\n",
      "====================================================\n",
      "======== COMBINED SIGNIFICANCE (LIKELIHOOD) ========\n",
      "Mass benchmark 2p5TeV\n",
      "For 300 fb^-1: σ = 1.3132451852253837\n",
      "For 3000 fb^-1: σ = 4.924934006523884\n",
      "===================================================\n",
      "\n",
      "Benchmark: 3p5TeV. Running observable pt_l1 at 300.0 fb^-1 ...\n",
      "Benchmark: 3p5TeV. Running observable pt_l1 at 3000.0 fb^-1 ...\n",
      "Benchmark: 3p5TeV. Running observable pt_l2 at 300.0 fb^-1 ...\n",
      "Benchmark: 3p5TeV. Running observable pt_l2 at 3000.0 fb^-1 ...\n",
      "Benchmark: 3p5TeV. Running observable E_l1 at 300.0 fb^-1 ...\n",
      "Benchmark: 3p5TeV. Running observable E_l1 at 3000.0 fb^-1 ...\n",
      "Benchmark: 3p5TeV. Running observable E_l2 at 300.0 fb^-1 ...\n",
      "Benchmark: 3p5TeV. Running observable E_l2 at 3000.0 fb^-1 ...\n",
      "Benchmark: 3p5TeV. Running observable M_l1l2 at 300.0 fb^-1 ...\n",
      "Benchmark: 3p5TeV. Running observable M_l1l2 at 3000.0 fb^-1 ...\n",
      "Benchmark: 3p5TeV. Running observable pt_l1_CM at 300.0 fb^-1 ...\n",
      "Benchmark: 3p5TeV. Running observable pt_l1_CM at 3000.0 fb^-1 ...\n",
      "Benchmark: 3p5TeV. Running observable E_l1_CM at 300.0 fb^-1 ...\n",
      "Benchmark: 3p5TeV. Running observable E_l1_CM at 3000.0 fb^-1 ...\n",
      "\n",
      "\n",
      "====================================================\n",
      "======== COMBINED SIGNIFICANCE (STOUFFER'S) ========\n",
      "Mass benchmark 3p5TeV\n",
      "For 300 fb^-1: σ = 0.469929438091589\n",
      "For 3000 fb^-1: σ = 1.904848938873066\n",
      "===================================================\n",
      "\n",
      "====================================================\n",
      "======== COMBINED SIGNIFICANCE (LIKELIHOOD) ========\n",
      "Mass benchmark 3p5TeV\n",
      "For 300 fb^-1: σ = 0.5576020517282967\n",
      "For 3000 fb^-1: σ = 2.0912825149133925\n",
      "===================================================\n",
      "\n",
      "Benchmark: 4p5TeV. Running observable pt_l1 at 300.0 fb^-1 ...\n"
     ]
    },
    {
     "name": "stderr",
     "output_type": "stream",
     "text": [
      "/home/felipe/anaconda3/envs/MadGraph-py3/lib/python3.7/site-packages/ipykernel_launcher.py:278: RuntimeWarning: invalid value encountered in double_scalars\n"
     ]
    },
    {
     "name": "stdout",
     "output_type": "stream",
     "text": [
      "Benchmark: 4p5TeV. Running observable pt_l1 at 3000.0 fb^-1 ...\n",
      "Benchmark: 4p5TeV. Running observable pt_l2 at 300.0 fb^-1 ...\n",
      "Benchmark: 4p5TeV. Running observable pt_l2 at 3000.0 fb^-1 ...\n",
      "Benchmark: 4p5TeV. Running observable E_l1 at 300.0 fb^-1 ...\n"
     ]
    },
    {
     "name": "stderr",
     "output_type": "stream",
     "text": [
      "/home/felipe/anaconda3/envs/MadGraph-py3/lib/python3.7/site-packages/ipykernel_launcher.py:278: RuntimeWarning: invalid value encountered in double_scalars\n"
     ]
    },
    {
     "name": "stdout",
     "output_type": "stream",
     "text": [
      "Benchmark: 4p5TeV. Running observable E_l1 at 3000.0 fb^-1 ...\n",
      "Benchmark: 4p5TeV. Running observable E_l2 at 300.0 fb^-1 ...\n",
      "Benchmark: 4p5TeV. Running observable E_l2 at 3000.0 fb^-1 ...\n",
      "Benchmark: 4p5TeV. Running observable M_l1l2 at 300.0 fb^-1 ...\n",
      "Benchmark: 4p5TeV. Running observable M_l1l2 at 3000.0 fb^-1 ...\n",
      "Benchmark: 4p5TeV. Running observable pt_l1_CM at 300.0 fb^-1 ...\n",
      "Benchmark: 4p5TeV. Running observable pt_l1_CM at 3000.0 fb^-1 ...\n",
      "Benchmark: 4p5TeV. Running observable E_l1_CM at 300.0 fb^-1 ...\n",
      "Benchmark: 4p5TeV. Running observable E_l1_CM at 3000.0 fb^-1 ...\n",
      "\n",
      "\n",
      "====================================================\n",
      "======== COMBINED SIGNIFICANCE (STOUFFER'S) ========\n",
      "Mass benchmark 4p5TeV\n",
      "For 300 fb^-1: σ = nan\n",
      "For 3000 fb^-1: σ = 0.37694790601750144\n",
      "===================================================\n",
      "\n",
      "====================================================\n",
      "======== COMBINED SIGNIFICANCE (LIKELIHOOD) ========\n",
      "Mass benchmark 4p5TeV\n",
      "For 300 fb^-1: σ = 0.0829553053332249\n",
      "For 3000 fb^-1: σ = 0.43339819320613143\n",
      "===================================================\n",
      "\n",
      "Benchmark: 5p5TeV. Running observable pt_l1 at 300.0 fb^-1 ...\n"
     ]
    },
    {
     "name": "stderr",
     "output_type": "stream",
     "text": [
      "/home/felipe/anaconda3/envs/MadGraph-py3/lib/python3.7/site-packages/ipykernel_launcher.py:278: RuntimeWarning: invalid value encountered in double_scalars\n"
     ]
    },
    {
     "name": "stdout",
     "output_type": "stream",
     "text": [
      "Benchmark: 5p5TeV. Running observable pt_l1 at 3000.0 fb^-1 ...\n"
     ]
    },
    {
     "name": "stderr",
     "output_type": "stream",
     "text": [
      "/home/felipe/anaconda3/envs/MadGraph-py3/lib/python3.7/site-packages/ipykernel_launcher.py:278: RuntimeWarning: invalid value encountered in double_scalars\n"
     ]
    },
    {
     "name": "stdout",
     "output_type": "stream",
     "text": [
      "Benchmark: 5p5TeV. Running observable pt_l2 at 300.0 fb^-1 ...\n"
     ]
    },
    {
     "name": "stderr",
     "output_type": "stream",
     "text": [
      "/home/felipe/anaconda3/envs/MadGraph-py3/lib/python3.7/site-packages/ipykernel_launcher.py:278: RuntimeWarning: invalid value encountered in double_scalars\n"
     ]
    },
    {
     "name": "stdout",
     "output_type": "stream",
     "text": [
      "Benchmark: 5p5TeV. Running observable pt_l2 at 3000.0 fb^-1 ...\n",
      "Benchmark: 5p5TeV. Running observable E_l1 at 300.0 fb^-1 ...\n"
     ]
    },
    {
     "name": "stderr",
     "output_type": "stream",
     "text": [
      "/home/felipe/anaconda3/envs/MadGraph-py3/lib/python3.7/site-packages/ipykernel_launcher.py:278: RuntimeWarning: invalid value encountered in double_scalars\n"
     ]
    },
    {
     "name": "stdout",
     "output_type": "stream",
     "text": [
      "Benchmark: 5p5TeV. Running observable E_l1 at 3000.0 fb^-1 ...\n"
     ]
    },
    {
     "name": "stderr",
     "output_type": "stream",
     "text": [
      "/home/felipe/anaconda3/envs/MadGraph-py3/lib/python3.7/site-packages/ipykernel_launcher.py:278: RuntimeWarning: invalid value encountered in double_scalars\n"
     ]
    },
    {
     "name": "stdout",
     "output_type": "stream",
     "text": [
      "Benchmark: 5p5TeV. Running observable E_l2 at 300.0 fb^-1 ...\n"
     ]
    },
    {
     "name": "stderr",
     "output_type": "stream",
     "text": [
      "/home/felipe/anaconda3/envs/MadGraph-py3/lib/python3.7/site-packages/ipykernel_launcher.py:278: RuntimeWarning: invalid value encountered in double_scalars\n"
     ]
    },
    {
     "name": "stdout",
     "output_type": "stream",
     "text": [
      "Benchmark: 5p5TeV. Running observable E_l2 at 3000.0 fb^-1 ...\n",
      "Benchmark: 5p5TeV. Running observable M_l1l2 at 300.0 fb^-1 ...\n"
     ]
    },
    {
     "name": "stderr",
     "output_type": "stream",
     "text": [
      "/home/felipe/anaconda3/envs/MadGraph-py3/lib/python3.7/site-packages/ipykernel_launcher.py:278: RuntimeWarning: invalid value encountered in double_scalars\n"
     ]
    },
    {
     "name": "stdout",
     "output_type": "stream",
     "text": [
      "Benchmark: 5p5TeV. Running observable M_l1l2 at 3000.0 fb^-1 ...\n",
      "Benchmark: 5p5TeV. Running observable pt_l1_CM at 300.0 fb^-1 ...\n"
     ]
    },
    {
     "name": "stderr",
     "output_type": "stream",
     "text": [
      "/home/felipe/anaconda3/envs/MadGraph-py3/lib/python3.7/site-packages/ipykernel_launcher.py:278: RuntimeWarning: invalid value encountered in double_scalars\n"
     ]
    },
    {
     "name": "stdout",
     "output_type": "stream",
     "text": [
      "Benchmark: 5p5TeV. Running observable pt_l1_CM at 3000.0 fb^-1 ...\n",
      "Benchmark: 5p5TeV. Running observable E_l1_CM at 300.0 fb^-1 ...\n"
     ]
    },
    {
     "name": "stderr",
     "output_type": "stream",
     "text": [
      "/home/felipe/anaconda3/envs/MadGraph-py3/lib/python3.7/site-packages/ipykernel_launcher.py:278: RuntimeWarning: invalid value encountered in double_scalars\n"
     ]
    },
    {
     "name": "stdout",
     "output_type": "stream",
     "text": [
      "Benchmark: 5p5TeV. Running observable E_l1_CM at 3000.0 fb^-1 ...\n",
      "\n",
      "\n",
      "====================================================\n",
      "======== COMBINED SIGNIFICANCE (STOUFFER'S) ========\n",
      "Mass benchmark 5p5TeV\n",
      "For 300 fb^-1: σ = nan\n",
      "For 3000 fb^-1: σ = nan\n",
      "===================================================\n",
      "\n",
      "====================================================\n",
      "======== COMBINED SIGNIFICANCE (LIKELIHOOD) ========\n",
      "Mass benchmark 5p5TeV\n",
      "For 300 fb^-1: σ = nan\n",
      "For 3000 fb^-1: σ = 0.1421796915602418\n",
      "===================================================\n",
      "\n",
      "Benchmark: 6p5TeV. Running observable pt_l1 at 300.0 fb^-1 ...\n"
     ]
    },
    {
     "name": "stderr",
     "output_type": "stream",
     "text": [
      "/home/felipe/anaconda3/envs/MadGraph-py3/lib/python3.7/site-packages/ipykernel_launcher.py:311: RuntimeWarning: invalid value encountered in double_scalars\n",
      "/home/felipe/anaconda3/envs/MadGraph-py3/lib/python3.7/site-packages/ipykernel_launcher.py:278: RuntimeWarning: invalid value encountered in double_scalars\n"
     ]
    },
    {
     "name": "stdout",
     "output_type": "stream",
     "text": [
      "Benchmark: 6p5TeV. Running observable pt_l1 at 3000.0 fb^-1 ...\n"
     ]
    },
    {
     "name": "stderr",
     "output_type": "stream",
     "text": [
      "/home/felipe/anaconda3/envs/MadGraph-py3/lib/python3.7/site-packages/ipykernel_launcher.py:278: RuntimeWarning: invalid value encountered in double_scalars\n"
     ]
    },
    {
     "name": "stdout",
     "output_type": "stream",
     "text": [
      "Benchmark: 6p5TeV. Running observable pt_l2 at 300.0 fb^-1 ...\n"
     ]
    },
    {
     "name": "stderr",
     "output_type": "stream",
     "text": [
      "/home/felipe/anaconda3/envs/MadGraph-py3/lib/python3.7/site-packages/ipykernel_launcher.py:278: RuntimeWarning: invalid value encountered in double_scalars\n"
     ]
    },
    {
     "name": "stdout",
     "output_type": "stream",
     "text": [
      "Benchmark: 6p5TeV. Running observable pt_l2 at 3000.0 fb^-1 ...\n"
     ]
    },
    {
     "name": "stderr",
     "output_type": "stream",
     "text": [
      "/home/felipe/anaconda3/envs/MadGraph-py3/lib/python3.7/site-packages/ipykernel_launcher.py:278: RuntimeWarning: invalid value encountered in double_scalars\n"
     ]
    },
    {
     "name": "stdout",
     "output_type": "stream",
     "text": [
      "Benchmark: 6p5TeV. Running observable E_l1 at 300.0 fb^-1 ...\n"
     ]
    },
    {
     "name": "stderr",
     "output_type": "stream",
     "text": [
      "/home/felipe/anaconda3/envs/MadGraph-py3/lib/python3.7/site-packages/ipykernel_launcher.py:278: RuntimeWarning: invalid value encountered in double_scalars\n"
     ]
    },
    {
     "name": "stdout",
     "output_type": "stream",
     "text": [
      "Benchmark: 6p5TeV. Running observable E_l1 at 3000.0 fb^-1 ...\n"
     ]
    },
    {
     "name": "stderr",
     "output_type": "stream",
     "text": [
      "/home/felipe/anaconda3/envs/MadGraph-py3/lib/python3.7/site-packages/ipykernel_launcher.py:278: RuntimeWarning: invalid value encountered in double_scalars\n"
     ]
    },
    {
     "name": "stdout",
     "output_type": "stream",
     "text": [
      "Benchmark: 6p5TeV. Running observable E_l2 at 300.0 fb^-1 ...\n"
     ]
    },
    {
     "name": "stderr",
     "output_type": "stream",
     "text": [
      "/home/felipe/anaconda3/envs/MadGraph-py3/lib/python3.7/site-packages/ipykernel_launcher.py:278: RuntimeWarning: invalid value encountered in double_scalars\n"
     ]
    },
    {
     "name": "stdout",
     "output_type": "stream",
     "text": [
      "Benchmark: 6p5TeV. Running observable E_l2 at 3000.0 fb^-1 ...\n"
     ]
    },
    {
     "name": "stderr",
     "output_type": "stream",
     "text": [
      "/home/felipe/anaconda3/envs/MadGraph-py3/lib/python3.7/site-packages/ipykernel_launcher.py:278: RuntimeWarning: invalid value encountered in double_scalars\n"
     ]
    },
    {
     "name": "stdout",
     "output_type": "stream",
     "text": [
      "Benchmark: 6p5TeV. Running observable M_l1l2 at 300.0 fb^-1 ...\n"
     ]
    },
    {
     "name": "stderr",
     "output_type": "stream",
     "text": [
      "/home/felipe/anaconda3/envs/MadGraph-py3/lib/python3.7/site-packages/ipykernel_launcher.py:278: RuntimeWarning: invalid value encountered in double_scalars\n"
     ]
    },
    {
     "name": "stdout",
     "output_type": "stream",
     "text": [
      "Benchmark: 6p5TeV. Running observable M_l1l2 at 3000.0 fb^-1 ...\n"
     ]
    },
    {
     "name": "stderr",
     "output_type": "stream",
     "text": [
      "/home/felipe/anaconda3/envs/MadGraph-py3/lib/python3.7/site-packages/ipykernel_launcher.py:278: RuntimeWarning: invalid value encountered in double_scalars\n"
     ]
    },
    {
     "name": "stdout",
     "output_type": "stream",
     "text": [
      "Benchmark: 6p5TeV. Running observable pt_l1_CM at 300.0 fb^-1 ...\n"
     ]
    },
    {
     "name": "stderr",
     "output_type": "stream",
     "text": [
      "/home/felipe/anaconda3/envs/MadGraph-py3/lib/python3.7/site-packages/ipykernel_launcher.py:278: RuntimeWarning: invalid value encountered in double_scalars\n"
     ]
    },
    {
     "name": "stdout",
     "output_type": "stream",
     "text": [
      "Benchmark: 6p5TeV. Running observable pt_l1_CM at 3000.0 fb^-1 ...\n"
     ]
    },
    {
     "name": "stderr",
     "output_type": "stream",
     "text": [
      "/home/felipe/anaconda3/envs/MadGraph-py3/lib/python3.7/site-packages/ipykernel_launcher.py:278: RuntimeWarning: invalid value encountered in double_scalars\n"
     ]
    },
    {
     "name": "stdout",
     "output_type": "stream",
     "text": [
      "Benchmark: 6p5TeV. Running observable E_l1_CM at 300.0 fb^-1 ...\n"
     ]
    },
    {
     "name": "stderr",
     "output_type": "stream",
     "text": [
      "/home/felipe/anaconda3/envs/MadGraph-py3/lib/python3.7/site-packages/ipykernel_launcher.py:278: RuntimeWarning: invalid value encountered in double_scalars\n"
     ]
    },
    {
     "name": "stdout",
     "output_type": "stream",
     "text": [
      "Benchmark: 6p5TeV. Running observable E_l1_CM at 3000.0 fb^-1 ...\n"
     ]
    },
    {
     "name": "stderr",
     "output_type": "stream",
     "text": [
      "/home/felipe/anaconda3/envs/MadGraph-py3/lib/python3.7/site-packages/ipykernel_launcher.py:278: RuntimeWarning: invalid value encountered in double_scalars\n",
      "/home/felipe/anaconda3/envs/MadGraph-py3/lib/python3.7/site-packages/ipykernel_launcher.py:311: RuntimeWarning: invalid value encountered in double_scalars\n",
      "/home/felipe/anaconda3/envs/MadGraph-py3/lib/python3.7/site-packages/ipykernel_launcher.py:316: RuntimeWarning: invalid value encountered in double_scalars\n"
     ]
    },
    {
     "name": "stdout",
     "output_type": "stream",
     "text": [
      "\n",
      "\n",
      "====================================================\n",
      "======== COMBINED SIGNIFICANCE (STOUFFER'S) ========\n",
      "Mass benchmark 6p5TeV\n",
      "For 300 fb^-1: σ = nan\n",
      "For 3000 fb^-1: σ = nan\n",
      "===================================================\n",
      "\n",
      "====================================================\n",
      "======== COMBINED SIGNIFICANCE (LIKELIHOOD) ========\n",
      "Mass benchmark 6p5TeV\n",
      "For 300 fb^-1: σ = nan\n",
      "For 3000 fb^-1: σ = nan\n",
      "===================================================\n",
      "\n",
      "Benchmark: 7p5TeV. Running observable pt_l1 at 300.0 fb^-1 ...\n"
     ]
    },
    {
     "name": "stderr",
     "output_type": "stream",
     "text": [
      "/home/felipe/anaconda3/envs/MadGraph-py3/lib/python3.7/site-packages/ipykernel_launcher.py:278: RuntimeWarning: invalid value encountered in double_scalars\n"
     ]
    },
    {
     "name": "stdout",
     "output_type": "stream",
     "text": [
      "Benchmark: 7p5TeV. Running observable pt_l1 at 3000.0 fb^-1 ...\n"
     ]
    },
    {
     "name": "stderr",
     "output_type": "stream",
     "text": [
      "/home/felipe/anaconda3/envs/MadGraph-py3/lib/python3.7/site-packages/ipykernel_launcher.py:278: RuntimeWarning: invalid value encountered in double_scalars\n"
     ]
    },
    {
     "name": "stdout",
     "output_type": "stream",
     "text": [
      "Benchmark: 7p5TeV. Running observable pt_l2 at 300.0 fb^-1 ...\n"
     ]
    },
    {
     "name": "stderr",
     "output_type": "stream",
     "text": [
      "/home/felipe/anaconda3/envs/MadGraph-py3/lib/python3.7/site-packages/ipykernel_launcher.py:278: RuntimeWarning: invalid value encountered in double_scalars\n"
     ]
    },
    {
     "name": "stdout",
     "output_type": "stream",
     "text": [
      "Benchmark: 7p5TeV. Running observable pt_l2 at 3000.0 fb^-1 ...\n",
      "Benchmark: 7p5TeV. Running observable E_l1 at 300.0 fb^-1 ...\n"
     ]
    },
    {
     "name": "stderr",
     "output_type": "stream",
     "text": [
      "/home/felipe/anaconda3/envs/MadGraph-py3/lib/python3.7/site-packages/ipykernel_launcher.py:278: RuntimeWarning: invalid value encountered in double_scalars\n"
     ]
    },
    {
     "name": "stdout",
     "output_type": "stream",
     "text": [
      "Benchmark: 7p5TeV. Running observable E_l1 at 3000.0 fb^-1 ...\n"
     ]
    },
    {
     "name": "stderr",
     "output_type": "stream",
     "text": [
      "/home/felipe/anaconda3/envs/MadGraph-py3/lib/python3.7/site-packages/ipykernel_launcher.py:278: RuntimeWarning: invalid value encountered in double_scalars\n"
     ]
    },
    {
     "name": "stdout",
     "output_type": "stream",
     "text": [
      "Benchmark: 7p5TeV. Running observable E_l2 at 300.0 fb^-1 ...\n"
     ]
    },
    {
     "name": "stderr",
     "output_type": "stream",
     "text": [
      "/home/felipe/anaconda3/envs/MadGraph-py3/lib/python3.7/site-packages/ipykernel_launcher.py:278: RuntimeWarning: invalid value encountered in double_scalars\n"
     ]
    },
    {
     "name": "stdout",
     "output_type": "stream",
     "text": [
      "Benchmark: 7p5TeV. Running observable E_l2 at 3000.0 fb^-1 ...\n",
      "Benchmark: 7p5TeV. Running observable M_l1l2 at 300.0 fb^-1 ...\n"
     ]
    },
    {
     "name": "stderr",
     "output_type": "stream",
     "text": [
      "/home/felipe/anaconda3/envs/MadGraph-py3/lib/python3.7/site-packages/ipykernel_launcher.py:278: RuntimeWarning: invalid value encountered in double_scalars\n"
     ]
    },
    {
     "name": "stdout",
     "output_type": "stream",
     "text": [
      "Benchmark: 7p5TeV. Running observable M_l1l2 at 3000.0 fb^-1 ...\n",
      "Benchmark: 7p5TeV. Running observable pt_l1_CM at 300.0 fb^-1 ...\n"
     ]
    },
    {
     "name": "stderr",
     "output_type": "stream",
     "text": [
      "/home/felipe/anaconda3/envs/MadGraph-py3/lib/python3.7/site-packages/ipykernel_launcher.py:278: RuntimeWarning: invalid value encountered in double_scalars\n"
     ]
    },
    {
     "name": "stdout",
     "output_type": "stream",
     "text": [
      "Benchmark: 7p5TeV. Running observable pt_l1_CM at 3000.0 fb^-1 ...\n",
      "Benchmark: 7p5TeV. Running observable E_l1_CM at 300.0 fb^-1 ...\n"
     ]
    },
    {
     "name": "stderr",
     "output_type": "stream",
     "text": [
      "/home/felipe/anaconda3/envs/MadGraph-py3/lib/python3.7/site-packages/ipykernel_launcher.py:278: RuntimeWarning: invalid value encountered in double_scalars\n"
     ]
    },
    {
     "name": "stdout",
     "output_type": "stream",
     "text": [
      "Benchmark: 7p5TeV. Running observable E_l1_CM at 3000.0 fb^-1 ...\n",
      "\n",
      "\n",
      "====================================================\n",
      "======== COMBINED SIGNIFICANCE (STOUFFER'S) ========\n",
      "Mass benchmark 7p5TeV\n",
      "For 300 fb^-1: σ = nan\n",
      "For 3000 fb^-1: σ = nan\n",
      "===================================================\n",
      "\n",
      "====================================================\n",
      "======== COMBINED SIGNIFICANCE (LIKELIHOOD) ========\n",
      "Mass benchmark 7p5TeV\n",
      "For 300 fb^-1: σ = nan\n",
      "For 3000 fb^-1: σ = 0.0924698863290509\n",
      "===================================================\n",
      "\n"
     ]
    },
    {
     "name": "stderr",
     "output_type": "stream",
     "text": [
      "/home/felipe/anaconda3/envs/MadGraph-py3/lib/python3.7/site-packages/ipykernel_launcher.py:311: RuntimeWarning: invalid value encountered in double_scalars\n"
     ]
    },
    {
     "data": {
      "text/plain": [
       "<Figure size 756x396 with 0 Axes>"
      ]
     },
     "metadata": {},
     "output_type": "display_data"
    }
   ],
   "source": [
    "number_of_bins = 30\n",
    "Observables = ['pt_l1', 'pt_l2', 'E_l1', 'E_l2', 'M_l1l2', 'pt_l1_CM', 'E_l1_CM']\n",
    "Masses = ['1p5TeV', '2p5TeV', '3p5TeV', '4p5TeV', '5p5TeV', '6p5TeV', '7p5TeV']\n",
    "luminosity = [300., 3000.]\n",
    "#The scale factor can be used to artificially tune the cross-section. This was used to determined the bounds for \n",
    "#Fig.6 of the paper. To use the correct xsec, the scale factor must be 1.0 !!!!\n",
    "scale = 1.0\n",
    "#Number of pseudo experiments\n",
    "#Run only 3_000 to make sure stuff works. For the results in the paper, I ran 50K for each obs.\n",
    "#Do note that, if you wish to run 50K pseudo experiments for each, this part will take a long time ....\n",
    "#The results in the paper are from a run that took 4+ hours.\n",
    "\n",
    "#For 3_000 is much faster and the results don't vary by much\n",
    "N = 3_000\n",
    "Gauss_pval = False\n",
    "\n",
    "#Dict for significances\n",
    "Significances_300 = {'Sigs_300_1p5TeV':[], 'Sigs_300_2p5TeV':[], 'Sigs_300_3p5TeV':[], 'Sigs_300_4p5TeV':[], 'Sigs_300_5p5TeV':[],\n",
    "                     'Sigs_300_6p5TeV':[], 'Sigs_300_7p5TeV':[]}\n",
    "Significances_3000 = {'Sigs_3000_1p5TeV':[], 'Sigs_3000_2p5TeV':[], 'Sigs_3000_3p5TeV':[], 'Sigs_3000_4p5TeV':[], 'Sigs_3000_5p5TeV':[],\n",
    "                     'Sigs_3000_6p5TeV':[], 'Sigs_3000_7p5TeV':[]}\n",
    "Dataframes = {'Dataframe_300_1p5TeV':[], 'Dataframe_3000_1p5TeV':[], 'Dataframe_300_2p5TeV':[], 'Dataframe_3000_2p5TeV':[],\n",
    "              'Dataframe_300_3p5TeV':[], 'Dataframe_3000_3p5TeV':[], 'Dataframe_300_4p5TeV':[], 'Dataframe_3000_4p5TeV':[],\n",
    "              'Dataframe_300_5p5TeV':[], 'Dataframe_3000_5p5TeV':[], 'Dataframe_300_6p5TeV':[], 'Dataframe_3000_6p5TeV':[],\n",
    "              'Dataframe_300_7p5TeV':[], 'Dataframe_3000_7p5TeV':[]}\n",
    "\n",
    "Comb_sig = {'Stouffer_300':[], 'Stouffer_3000':[], 'Likelihood_300':[], 'Likelihood_3000':[]}\n",
    "\n",
    "#path to data\n",
    "path = \"/home/felipe/JoaoPino/1-LQsCollider_project/Data_MadGraph/Full_data\"\n",
    "\n",
    "#Only need to read the Backgrounds once, so do it before loop\n",
    "#However, this is only needed if you don't have the backgrounds already loaded in the kernel\n",
    "#If you have, put background = False\n",
    "\n",
    "#On the other hand, signals will be read in the loop, since I calculated for all benchmarks\n",
    "background = False\n",
    "if background:\n",
    "    all_ttbar = glob.glob(path + \"/ttbar_*.csv\")\n",
    "    all_WW = glob.glob(path + \"/WW_*.csv\")\n",
    "    all_ZZ = glob.glob(path + \"/ZZ_*.csv\")\n",
    "    all_ZW = glob.glob(path + \"/ZW_*.csv\")\n",
    "    all_Zplusjets = glob.glob(path + \"/Z_plus_jets_*.csv\")\n",
    "\n",
    "    #ttbar\n",
    "    for filename in all_ttbar:\n",
    "        df = pd.read_csv(filename, index_col=None, header=0)\n",
    "        li_ttbar.append(df)\n",
    "\n",
    "    ttbar = pd.concat(li_ttbar, axis=0, ignore_index=True)\n",
    "\n",
    "    #WW\n",
    "    for filename in all_WW:\n",
    "        df = pd.read_csv(filename, index_col=None, header=0)\n",
    "        li_WW.append(df)\n",
    "\n",
    "    WW = pd.concat(li_WW, axis=0, ignore_index=True)\n",
    "\n",
    "    #ZZ\n",
    "    for filename in all_ZZ:\n",
    "        df = pd.read_csv(filename, index_col=None, header=0)\n",
    "        li_ZZ.append(df)\n",
    "\n",
    "    ZZ = pd.concat(li_ZZ, axis=0, ignore_index=True)\n",
    "\n",
    "    #ZW\n",
    "    for filename in all_ZW:\n",
    "        df = pd.read_csv(filename, index_col=None, header=0)\n",
    "        li_ZW.append(df)\n",
    "\n",
    "    ZW = pd.concat(li_ZW, axis=0, ignore_index=True)\n",
    "\n",
    "    #Z plus jets\n",
    "    for filename in all_Zplusjets:\n",
    "        df = pd.read_csv(filename, index_col=None, header=0)\n",
    "        li_Zplusjets.append(df)\n",
    "\n",
    "    Z_plus_jets = pd.concat(li_Zplusjets, axis=0, ignore_index=True)\n",
    "\n",
    "    Diboson = pd.concat([WW, ZZ, ZW],axis=0)\n",
    "\n",
    "    #Reweight backgrounds to higher-order cross sections\n",
    "\n",
    "    #Cross sections: Sums all values in collumn 'weight' in each data frame\n",
    "    #Divided by the number of samples. I have batches of 10 samples, each with 100K events\n",
    "\n",
    "    #ttbar\n",
    "    ttbar_N3LO = 988.57\n",
    "    ttbar_LO = 93.32\n",
    "    ttbar_new_weight = (ttbar['xs_weight']*ttbar_N3LO)/ttbar_LO\n",
    "    xsec_N3LO_ttbar = (ttbar_new_weight.sum()*1000)/10\n",
    "\n",
    "    #Z plus jets\n",
    "    Zjets_NNLO = 6.33*1e4\n",
    "    Zjets_LO = 4128.0\n",
    "    Zjets_new_weight = (Z_plus_jets['xs_weight']*Zjets_NNLO)/Zjets_LO\n",
    "    xsec_NNLO_Zjets = (Zjets_new_weight.sum()*1000)/10\n",
    "\n",
    "    #VV +jets. Cross sections for each individual process \n",
    "    #WW + jets\n",
    "    WW_NLO = 124.31\n",
    "    WW_LO = 77.22\n",
    "    WW_new_weight = (WW['xs_weight']*WW_NLO)/WW_LO\n",
    "    xsec_NNLO_WW = (WW_new_weight.sum()*1000)/10\n",
    "\n",
    "    #WZ + jets\n",
    "    ZW_NLO = 51.82\n",
    "    ZW_LO = 0.9827\n",
    "    ZW_new_weight = (ZW['xs_weight']*ZW_NLO)/ZW_LO\n",
    "    xsec_NNLO_ZW = (ZW_new_weight.sum()*1000)/10\n",
    "\n",
    "    #ZZ + jets\n",
    "    ZZ_NLO = 17.72\n",
    "    ZZ_LO = 0.03654\n",
    "    ZZ_new_weight = (ZZ['xs_weight']*ZZ_NLO)/ZZ_LO\n",
    "    xsec_NNLO_ZZ = (ZZ_new_weight.sum()*1000)/10\n",
    "\n",
    "    ttbar['xs_weight'] = ttbar_new_weight\n",
    "    Z_plus_jets['xs_weight'] = Zjets_new_weight\n",
    "    WW['xs_weight'] = WW_new_weight\n",
    "    ZW['xs_weight'] = ZW_new_weight\n",
    "    ZZ['xs_weight'] = ZZ_new_weight\n",
    "\n",
    "    Diboson = pd.concat([WW, ZZ, ZW],axis=0)\n",
    "\n",
    "for mass in Masses:\n",
    "    \n",
    "    all_Signal = glob.glob(path + \"/Correct_weights/LQ_Tchannel_{}.csv\".format(mass))\n",
    "\n",
    "    #Signal\n",
    "    li_Signal = []\n",
    "    for filename in all_Signal:\n",
    "        df = pd.read_csv(filename, index_col=None, header=0)\n",
    "        li_Signal.append(df)\n",
    "\n",
    "    Signal = pd.concat(li_Signal, axis=0, ignore_index=True)\n",
    "\n",
    "    \n",
    "    for i in range(0, len(Observables)):\n",
    "        Obs = Observables[i]\n",
    "        for lumi in luminosity:\n",
    "            print(\"Benchmark: {}. Running observable {} at {} fb^-1 ...\".format(mass, Obs, lumi))\n",
    "            #Multiply weights for both backhrounds and signal to put into units of fb\n",
    "            Get_events_background_l1 = Diboson[Obs].pipe(lambda s: pd.Series(np.histogram(s, range=(Diboson[Obs].min(), Diboson[Obs].max()), bins=number_of_bins, weights=Diboson['xs_weight']*1000*lumi)))[0] + \\\n",
    "                                 Z_plus_jets[Obs].pipe(lambda s: pd.Series(np.histogram(s, range=(Diboson[Obs].min(), Diboson[Obs].max()), bins=number_of_bins, weights=Z_plus_jets['xs_weight']*1000*lumi)))[0] + \\\n",
    "                                 ttbar[Obs].pipe(lambda s: pd.Series(np.histogram(s, range=(Diboson[Obs].min(), Diboson[Obs].max()), bins=number_of_bins, weights=ttbar['xs_weight']*1000*lumi)))[0]\n",
    "            Get_events_background_l1 = np.array([int(s) for s in Get_events_background_l1])\n",
    "\n",
    "            Get_events_signal_l1 = Signal[Obs].pipe(lambda s: pd.Series(np.histogram(s, range=(Diboson[Obs].min(), Signal[Obs].max()), bins=number_of_bins, weights=scale*Signal['xs_weight']*1000*lumi)))[0]\n",
    "            Get_events_signal_l1 = np.array([int(s) for s in Get_events_signal_l1])\n",
    "\n",
    "            Features = ['Log_prob_S', 'Log_prob_B']\n",
    "            df = pd.DataFrame(columns=Features)\n",
    "\n",
    "            #Arrays with the number of background events and the number of signal+background events\n",
    "            Background = Get_events_background_l1\n",
    "            Signal_plus_background = Get_events_background_l1 + Get_events_signal_l1\n",
    "            Signal_pure = Get_events_signal_l1\n",
    "\n",
    "            #Up to which bins to use\n",
    "            n_bins = np.where(Get_events_background_l1 == 0)[0][0]\n",
    "\n",
    "            for idx in range(0, N):\n",
    "\n",
    "                with warnings.catch_warnings():\n",
    "                    warnings.filterwarnings('error')\n",
    "                    try:\n",
    "\n",
    "                        # ----- Signal -----\n",
    "                        # Create new data that is poisson distributed based on the orignal simulated one\n",
    "                        New_events_signal = np.array([ np.random.poisson(Signal_plus_background[i]) for i in range(0, n_bins) ])\n",
    "\n",
    "                        # For the background, stay fixed\n",
    "                        New_events_background = np.array([ Background[i] for i in range(0, n_bins) ]) \n",
    "                        \n",
    "                        # ========================== NEW FOR V2 OF THE PAPER ========================== #\n",
    "                        # Impose the 1% systematics\n",
    "                        # Calculate the signal/background percentage ratio (eps is for the cases where the background is zero)\n",
    "                        # Ignore bins where the percentage is below the considered systematics (1%)\n",
    "                        eps = 1e-20\n",
    "                        S_OVER_B = (Signal_pure/np.sqrt(Background + eps))*100 \n",
    "\n",
    "                        New_events_signal_sys     = []\n",
    "                        New_events_background_sys = []\n",
    "\n",
    "                        for idx in range(0,len(New_events_background)):\n",
    "                            \n",
    "                            if S_OVER_B[idx] > 1:\n",
    "                                New_events_signal_sys.append(New_events_signal[idx])\n",
    "                                New_events_background_sys.append(New_events_background[idx])\n",
    "                        \n",
    "                        assert len(New_events_signal_sys) == len(New_events_background_sys)\n",
    "\n",
    "                        n_bins_sys = len(New_events_signal_sys)\n",
    "                        # ========================== NEW FOR V2 OF THE PAPER ========================== #\n",
    "\n",
    "                        # ----- Get probabilities ----- \n",
    "                        Get_probabilities_poisson_S = np.array([poisson.logpmf(k=New_events_signal_sys[n], mu=New_events_background_sys[n]) for n in range(0,n_bins_sys)])    \n",
    "                        Get_probabilities_poisson_B = np.array([poisson.logpmf(k=New_events_background_sys[n], mu=New_events_signal_sys[n]) for n in range(0,n_bins_sys)])\n",
    "\n",
    "                        Get_product_S = np.prod(Get_probabilities_poisson_S)\n",
    "                        Get_product_B = np.prod(Get_probabilities_poisson_B)\n",
    "                        Get_prob_S = np.log(Get_product_S/Get_product_B)\n",
    "\n",
    "                        # ----- Background -----\n",
    "                        # Create new data that is poisson distributed based on the orignal simulated one\n",
    "                        New_events_background = np.array([ np.random.poisson(Background[i]) for i in range(0, n_bins) ])\n",
    "\n",
    "                        # For the signal, stay fixed\n",
    "                        New_events_signal = np.array([ Signal_plus_background[i] for i in range(0, n_bins) ]) \n",
    "                                        \n",
    "                        # ========================== NEW FOR V2 OF THE PAPER ========================== #\n",
    "                        # Impose the 1% systematics \n",
    "                        # Calculate the signal/background percentage ratio (eps is for the cases where the background is zero)\n",
    "                        # Ignore bins where the percentage is below the considered systematics (1%)\n",
    "                        eps = 1e-20\n",
    "                        S_OVER_B = (Signal_pure/np.sqrt(Background + eps))*100 \n",
    "                        \n",
    "                        New_events_signal_sys     = []\n",
    "                        New_events_background_sys = []\n",
    "                        \n",
    "                        for idx in range(0,len(New_events_background)):\n",
    "                            \n",
    "                            if S_OVER_B[idx] > 1:\n",
    "                                New_events_signal_sys.append(New_events_signal[idx])\n",
    "                                New_events_background_sys.append(New_events_background[idx])\n",
    "                        \n",
    "                        assert len(New_events_signal_sys) == len(New_events_background_sys)\n",
    "                        \n",
    "                        n_bins_sys = len(New_events_signal_sys)\n",
    "                        # ========================== NEW FOR V2 OF THE PAPER ========================== #\n",
    "\n",
    "                        # ----- Get probabilities ----- \n",
    "                        Get_probabilities_poisson_S = np.array([poisson.logpmf(k=New_events_background_sys[n], mu=New_events_signal_sys[n]) for n in range(0,n_bins_sys)])    \n",
    "                        Get_probabilities_poisson_B = np.array([poisson.logpmf(k=New_events_signal_sys[n], mu=New_events_background_sys[n]) for n in range(0,n_bins_sys)])\n",
    "\n",
    "                        Get_product_S = np.prod(Get_probabilities_poisson_S)\n",
    "                        Get_product_B = np.prod(Get_probabilities_poisson_B)            \n",
    "                        Get_prob_B = np.log(Get_product_S/Get_product_B)\n",
    "\n",
    "                        Probs = [Get_prob_S, Get_prob_B]\n",
    "\n",
    "                        # Save data data into a dataframe for further manipulation (df_S)\n",
    "                        entry = pd.DataFrame([Probs], columns=Features)\n",
    "                        df = df.append(entry)\n",
    "\n",
    "                    except Warning as e:\n",
    "                        continue\n",
    "\n",
    "            if Gauss_pval == True:\n",
    "                #Get bins for gaussian fit\n",
    "                _, bins_S, _ = plt.hist(df['Log_prob_S'].to_numpy(), bins=100, density=1 , alpha=0.5)\n",
    "                _, bins_B, _ = plt.hist(df['Log_prob_B'].to_numpy(), bins=100, density=1 , alpha=0.5)\n",
    "                #Close so plots are not drawn\n",
    "                plt.clf()\n",
    "\n",
    "                #Signal\n",
    "                mu_S, sigma_S = scipy.stats.norm.fit(df['Log_prob_S'].to_numpy())\n",
    "\n",
    "                #Background\n",
    "                mu_B, sigma_B = scipy.stats.norm.fit(df['Log_prob_B'].to_numpy())\n",
    "\n",
    "                #Calculate p-value and translate to sigmas\n",
    "                p_value = 1 - norm.cdf(mu_S, mu_B, sigma_B)\n",
    "                sigma = (mu_S - mu_B)/sigma_B\n",
    "\n",
    "            if Gauss_pval == False:\n",
    "\n",
    "                #Draw histograms\n",
    "                hist_S = df['Log_prob_S'].hist(bins=100, color='red', histtype = 'step', density=True)\n",
    "                hist_B = df['Log_prob_B'].hist(bins=100, color='blue', histtype = 'step', density=True)\n",
    "                #Close so plots are not drawn\n",
    "                plt.clf()\n",
    "\n",
    "                #Calculate sigmas based on median of the pdfs\n",
    "                mu_S, mu_B = np.median(df['Log_prob_S'].to_numpy()), np.median(df['Log_prob_B'].to_numpy())\n",
    "                sigma_B = np.std(df['Log_prob_B'].to_numpy())\n",
    "                sigma = (mu_S - mu_B)/sigma_B\n",
    "                p_value = scipy.stats.norm.sf(np.abs(sigma))\n",
    "\n",
    "            if lumi == 300.:\n",
    "                Significances_300['Sigs_300_{}'.format(mass)].append(np.abs(sigma))\n",
    "                Dataframes['Dataframe_300_{}'.format(mass)].append(df)\n",
    "            if lumi == 3000.:\n",
    "                Significances_3000['Sigs_3000_{}'.format(mass)].append(np.abs(sigma))\n",
    "                Dataframes['Dataframe_3000_{}'.format(mass)].append(df)\n",
    "                 \n",
    "    print(\"\\n\")\n",
    "    print(\"====================================================\")\n",
    "    print(\"======== COMBINED SIGNIFICANCE (STOUFFER'S) ========\")\n",
    "    print(\"Mass benchmark {}\".format(mass))\n",
    "    print(\"For 300 fb^-1: σ = {}\".format(sum(Significances_300['Sigs_300_{}'.format(mass)])/np.sqrt(len(Significances_300['Sigs_300_{}'.format(mass)]))))\n",
    "    print(\"For 3000 fb^-1: σ = {}\".format(sum(Significances_3000['Sigs_3000_{}'.format(mass)])/np.sqrt(len(Significances_3000['Sigs_3000_{}'.format(mass)]))))\n",
    "    print(\"===================================================\")\n",
    "    print(\"\")\n",
    "    \n",
    "    Global_hist_300 = sum(Dataframes['Dataframe_300_{}'.format(mass)][i] for i in range(0,len(Dataframes['Dataframe_300_{}'.format(mass)])))\n",
    "    Global_hist_3000 = sum(Dataframes['Dataframe_3000_{}'.format(mass)][i] for i in range(0,len(Dataframes['Dataframe_3000_{}'.format(mass)])))\n",
    "    \n",
    "    #Draw histograms\n",
    "    hist_S_300 = Global_hist_300['Log_prob_S'].hist(bins=100, color='red', histtype = 'step', density=True)\n",
    "    hist_S_3000 = Global_hist_3000['Log_prob_S'].hist(bins=100, color='red', histtype = 'step', density=True)\n",
    "    hist_B_300 = Global_hist_300['Log_prob_B'].hist(bins=100, color='blue', histtype = 'step', density=True)\n",
    "    hist_B_3000 = Global_hist_3000['Log_prob_B'].hist(bins=100, color='blue', histtype = 'step', density=True)\n",
    "    #Close so plots are not drawn\n",
    "    plt.clf()\n",
    "\n",
    "    #Calculate sigmas based on median of the pdfs\n",
    "    mu_S_300, mu_B_300 = np.median(Global_hist_300['Log_prob_S'].to_numpy()), np.median(Global_hist_300['Log_prob_B'].to_numpy())\n",
    "    sigma_B_300 = np.std(Global_hist_300['Log_prob_B'].to_numpy())\n",
    "    sigma_300 = (mu_S_300 - mu_B_300)/sigma_B_300\n",
    "    p_value_300 = scipy.stats.norm.sf(np.abs(sigma_300))\n",
    "\n",
    "    mu_S_3000, mu_B_3000 = np.median(Global_hist_3000['Log_prob_S'].to_numpy()), np.median(Global_hist_3000['Log_prob_B'].to_numpy())\n",
    "    sigma_B_3000 = np.std(Global_hist_3000['Log_prob_B'].to_numpy())\n",
    "    sigma_3000 = (mu_S_3000 - mu_B_3000)/sigma_B_3000\n",
    "    p_value_3000 = scipy.stats.norm.sf(np.abs(sigma_3000))\n",
    "    \n",
    "    print(\"====================================================\")\n",
    "    print(\"======== COMBINED SIGNIFICANCE (LIKELIHOOD) ========\")\n",
    "    print(\"Mass benchmark {}\".format(mass))\n",
    "    print(\"For 300 fb^-1: σ = {}\".format(sigma_300))\n",
    "    print(\"For 3000 fb^-1: σ = {}\".format(sigma_3000))\n",
    "    print(\"===================================================\")\n",
    "    print(\"\")\n",
    "    \n",
    "    #Save the combined significances to be used later\n",
    "    Comb_sig['Stouffer_300'].append(sum(Significances_300['Sigs_300_{}'.format(mass)])/np.sqrt(len(Significances_300['Sigs_300_{}'.format(mass)])))\n",
    "    Comb_sig['Stouffer_3000'].append(sum(Significances_3000['Sigs_3000_{}'.format(mass)])/np.sqrt(len(Significances_3000['Sigs_3000_{}'.format(mass)])))\n",
    "    Comb_sig['Likelihood_300'].append(sigma_300)\n",
    "    Comb_sig['Likelihood_3000'].append(sigma_3000)"
   ]
  },
  {
   "cell_type": "markdown",
   "metadata": {},
   "source": [
    "# Construct latex code for Table 5 with the significances"
   ]
  },
  {
   "cell_type": "code",
   "execution_count": 12,
   "metadata": {},
   "outputs": [],
   "source": [
    "from numpy import ma\n"
   ]
  },
  {
   "cell_type": "code",
   "execution_count": 13,
   "metadata": {},
   "outputs": [],
   "source": [
    "def sig_figures(X, n):\n",
    "    \n",
    "    if isinstance(X, float):\n",
    "        exp = np.floor(ma.log10(abs(X)))\n",
    "        ans = np.round(X*10**-exp, n-1) * 10**exp\n",
    "    else:    \n",
    "        exp = np.floor(ma.log10(abs(X)).filled(0))\n",
    "        ans = np.round(X*10**-exp, n-1) * 10**exp\n",
    "    \n",
    "    return ans"
   ]
  },
  {
   "cell_type": "code",
   "execution_count": 14,
   "metadata": {},
   "outputs": [
    {
     "name": "stdout",
     "output_type": "stream",
     "text": [
      "%%%%%%%%%%%%%%%%%%%%%%%%%%%%%%%%%%%%%%%%%%%%%%%%%%%%\n",
      "{\\renewcommand{\\arraystretch}{0.9}%\n",
      "\\begin{table}[htb!]\n",
      "\\begin{center}\n",
      "\\captionsetup{justification=raggedright,singlelinecheck=true}\n",
      "\\resizebox{\\columnwidth}{!}{%\n",
      "\\begin{tabular}{c|c|c|c|c|cccccccc}\n",
      "$M_{LQ}~(\\mathrm{GeV})$ & \\multicolumn{1}{c|}{\\makecell{$M(\\mu^+,\\mu^-)$ \\\\ $\\mathcal{L} = 300~\\mathrm{fb^{-1}}$}} & \\multicolumn{1}{c|}{\\makecell{$M(\\mu^+,\\mu^-)$ \\\\ $\\mathcal{L} = 3000~\\mathrm{fb^{-1}}$}} & \\multicolumn{1}{c|}{\\makecell{$E(\\mu^+)$ \\\\ $\\mathcal{L} = 300~\\mathrm{fb^{-1}}$}} & \\multicolumn{1}{c|}{\\makecell{$E(\\mu^+)$ \\\\ $\\mathcal{L} = 3000~\\mathrm{fb^{-1}}$}} & \\multicolumn{1}{c}{\\makecell{$\\mathrm{Combined}$ \\\\ $(300,3000)~\\mathrm{fb^{-1}}$}} \\\\[2mm] \\hline\n",
      "\\multirow{2}{*}{$1.5~\\mathrm{TeV}~(\\mathcal{B}1)$} & \\multirow{2}{*}{$1.71\\sigma$} & \\multirow{2}{*}{$5.23\\sigma$} & \\multirow{2}{*}{$0.884\\sigma$} & \\multirow{2}{*}{$2.78\\sigma$} & \\multirow{2}{*}{($3.17\\sigma$,\\, $9.75\\sigma$)} & \\\\[5mm] \\hhline{=============}\n",
      "\\multirow{2}{*}{$2.5~\\mathrm{TeV}~(\\mathcal{B}2)$} & \\multirow{2}{*}{$0.555\\sigma$} & \\multirow{2}{*}{$2.21\\sigma$} & \\multirow{2}{*}{$0.7320000000000001\\sigma$} & \\multirow{2}{*}{$2.29\\sigma$} & \\multirow{2}{*}{($1.31\\sigma$,\\, $4.92\\sigma$)} & \\\\[5mm] \\hhline{=============}\n",
      "\\multirow{2}{*}{$3.5~\\mathrm{TeV}~(\\mathcal{B}3)$} & \\multirow{2}{*}{$0.24\\sigma$} & \\multirow{2}{*}{$0.919\\sigma$} & \\multirow{2}{*}{$0.221\\sigma$} & \\multirow{2}{*}{$0.9710000000000001\\sigma$} & \\multirow{2}{*}{($0.558\\sigma$,\\, $2.09\\sigma$)} & \\\\[5mm] \\hhline{=============}\n",
      "\\multirow{2}{*}{$4.5~\\mathrm{TeV}~(\\mathcal{B}4)$} & \\multirow{2}{*}{$0.031000000000000003\\sigma$} & \\multirow{2}{*}{$0.124\\sigma$} & \\multirow{2}{*}{$0.015700000000000002\\sigma$} & \\multirow{2}{*}{$0.371\\sigma$} & \\multirow{2}{*}{($0.083\\sigma$,\\, $0.43300000000000005\\sigma$)} & \\\\[5mm] \\hhline{=============}\n",
      "\\multirow{2}{*}{$5.5~\\mathrm{TeV}~(\\mathcal{B}5)$} & \\multirow{2}{*}{$0.0\\sigma$} & \\multirow{2}{*}{$0.00047400000000000003\\sigma$} & \\multirow{2}{*}{$0.0\\sigma$} & \\multirow{2}{*}{$0.0726\\sigma$} & \\multirow{2}{*}{($0.0\\sigma$,\\, $0.142\\sigma$)} & \\\\[5mm] \\hhline{=============}\n",
      "\\multirow{2}{*}{$6.5~\\mathrm{TeV}~(\\mathcal{B}6)$} & \\multirow{2}{*}{$0.0\\sigma$} & \\multirow{2}{*}{$0.0\\sigma$} & \\multirow{2}{*}{$0.0\\sigma$} & \\multirow{2}{*}{$0.0\\sigma$} & \\multirow{2}{*}{($0.0\\sigma$,\\, $0.0\\sigma$)} & \\\\[5mm] \\hhline{=============}\n",
      "\\multirow{2}{*}{$7.5~\\mathrm{TeV}~(\\mathcal{B}7)$} & \\multirow{2}{*}{$0.0\\sigma$} & \\multirow{2}{*}{$0.037700000000000004\\sigma$} & \\multirow{2}{*}{$0.0\\sigma$} & \\multirow{2}{*}{$0.051500000000000004\\sigma$} & \\multirow{2}{*}{($0.0\\sigma$,\\, $0.0925\\sigma$)} & \\\\[5mm] \\hhline{=============}\n",
      "\\end{tabular}}\n",
      "\\caption{The statistical significance for each of the mass benchmarks mentioned in the text for $M(\\mu^+,\\mu^-)$ and $p_T(\\mu^+)$ distributions. In {\\redBU red} we indicate points that pass the $5\\sigma$ threshold for discovery. In the last column we show the combined significance, calculated using Stouffer's method, based on the distributions shown in Fig.~\\ref{fig:LQ_observables_2}. Points marked with ``$-$'' indicates that post-selection cross-section is not sufficient to produce a single event.}\n",
      "\\label{tab:significance_table}\n",
      "\\end{center}\n",
      "\\end{table}}\n",
      "%%%%%%%%%%%%%%%%%%%%%%%%%%%%%%%%%%%%%%%%%%%%%%%%%%%%\n"
     ]
    }
   ],
   "source": [
    "B1_col = '\\\\multirow{2}{*}{$1.5~\\\\mathrm{TeV}~(\\\\mathcal{B}1)$}' + ' & ' + \\\n",
    "         '\\\\multirow{{2}}{{*}}{{${f}\\\\sigma$}}'.format(f=sig_figures(Significances_300['Sigs_300_1p5TeV'][4], 3)) + ' & ' + \\\n",
    "         '\\\\multirow{{2}}{{*}}{{${f}\\\\sigma$}}'.format(f=sig_figures(Significances_3000['Sigs_3000_1p5TeV'][4], 3)) + ' & ' + \\\n",
    "         '\\\\multirow{{2}}{{*}}{{${f}\\\\sigma$}}'.format(f=sig_figures(Significances_300['Sigs_300_1p5TeV'][3], 3)) + ' & ' + \\\n",
    "         '\\\\multirow{{2}}{{*}}{{${f}\\\\sigma$}}'.format(f=sig_figures(Significances_3000['Sigs_3000_1p5TeV'][3], 3)) + ' & ' + \\\n",
    "         '\\\\multirow{{2}}{{*}}{{(${f1}\\\\sigma$,\\\\, ${f2}\\\\sigma$)}}'.format(f1=sig_figures(Comb_sig['Likelihood_300'][0], 3),\n",
    "                                                                            f2=sig_figures(Comb_sig['Likelihood_3000'][0], 3)) + ' & ' + \\\n",
    "         '\\\\\\\\[5mm] \\hhline{=============}'\n",
    "\n",
    "B2_col = '\\\\multirow{2}{*}{$2.5~\\\\mathrm{TeV}~(\\\\mathcal{B}2)$}' + ' & ' + \\\n",
    "         '\\\\multirow{{2}}{{*}}{{${f}\\\\sigma$}}'.format(f=sig_figures(Significances_300['Sigs_300_2p5TeV'][4], 3)) + ' & ' + \\\n",
    "         '\\\\multirow{{2}}{{*}}{{${f}\\\\sigma$}}'.format(f=sig_figures(Significances_3000['Sigs_3000_2p5TeV'][4], 3)) + ' & ' + \\\n",
    "         '\\\\multirow{{2}}{{*}}{{${f}\\\\sigma$}}'.format(f=sig_figures(Significances_300['Sigs_300_2p5TeV'][3], 3)) + ' & ' + \\\n",
    "         '\\\\multirow{{2}}{{*}}{{${f}\\\\sigma$}}'.format(f=sig_figures(Significances_3000['Sigs_3000_2p5TeV'][3], 3)) + ' & ' + \\\n",
    "         '\\\\multirow{{2}}{{*}}{{(${f1}\\\\sigma$,\\\\, ${f2}\\\\sigma$)}}'.format(f1=sig_figures(Comb_sig['Likelihood_300'][1], 3),\n",
    "                                                                            f2=sig_figures(Comb_sig['Likelihood_3000'][1], 3)) + ' & ' + \\\n",
    "         '\\\\\\\\[5mm] \\hhline{=============}'\n",
    "\n",
    "B3_col = '\\\\multirow{2}{*}{$3.5~\\\\mathrm{TeV}~(\\\\mathcal{B}3)$}' + ' & ' + \\\n",
    "         '\\\\multirow{{2}}{{*}}{{${f}\\\\sigma$}}'.format(f=sig_figures(Significances_300['Sigs_300_3p5TeV'][4], 3)) + ' & ' + \\\n",
    "         '\\\\multirow{{2}}{{*}}{{${f}\\\\sigma$}}'.format(f=sig_figures(Significances_3000['Sigs_3000_3p5TeV'][4], 3)) + ' & ' + \\\n",
    "         '\\\\multirow{{2}}{{*}}{{${f}\\\\sigma$}}'.format(f=sig_figures(Significances_300['Sigs_300_3p5TeV'][3], 3)) + ' & ' + \\\n",
    "         '\\\\multirow{{2}}{{*}}{{${f}\\\\sigma$}}'.format(f=sig_figures(Significances_3000['Sigs_3000_3p5TeV'][3], 3)) + ' & ' + \\\n",
    "         '\\\\multirow{{2}}{{*}}{{(${f1}\\\\sigma$,\\\\, ${f2}\\\\sigma$)}}'.format(f1=sig_figures(Comb_sig['Likelihood_300'][2], 3),\n",
    "                                                                            f2=sig_figures(Comb_sig['Likelihood_3000'][2], 3)) + ' & ' + \\\n",
    "         '\\\\\\\\[5mm] \\hhline{=============}'\n",
    "\n",
    "\n",
    "B4_col = '\\\\multirow{2}{*}{$4.5~\\\\mathrm{TeV}~(\\\\mathcal{B}4)$}' + ' & ' + \\\n",
    "         '\\\\multirow{{2}}{{*}}{{${f}\\\\sigma$}}'.format(f=sig_figures(Significances_300['Sigs_300_4p5TeV'][4], 3)) + ' & ' + \\\n",
    "         '\\\\multirow{{2}}{{*}}{{${f}\\\\sigma$}}'.format(f=sig_figures(Significances_3000['Sigs_3000_4p5TeV'][4], 3)) + ' & ' + \\\n",
    "         '\\\\multirow{{2}}{{*}}{{${f}\\\\sigma$}}'.format(f=sig_figures(Significances_300['Sigs_300_4p5TeV'][3], 3)) + ' & ' + \\\n",
    "         '\\\\multirow{{2}}{{*}}{{${f}\\\\sigma$}}'.format(f=sig_figures(Significances_3000['Sigs_3000_4p5TeV'][3], 3)) + ' & ' + \\\n",
    "         '\\\\multirow{{2}}{{*}}{{(${f1}\\\\sigma$,\\\\, ${f2}\\\\sigma$)}}'.format(f1=sig_figures(Comb_sig['Likelihood_300'][3], 3),\n",
    "                                                                            f2=sig_figures(Comb_sig['Likelihood_3000'][3], 3)) + ' & ' + \\\n",
    "         '\\\\\\\\[5mm] \\hhline{=============}'\n",
    "\n",
    "B5_col = '\\\\multirow{2}{*}{$5.5~\\\\mathrm{TeV}~(\\\\mathcal{B}5)$}' + ' & ' + \\\n",
    "         '\\\\multirow{{2}}{{*}}{{${f}\\\\sigma$}}'.format(f=sig_figures(Significances_300['Sigs_300_5p5TeV'][4], 3)) + ' & ' + \\\n",
    "         '\\\\multirow{{2}}{{*}}{{${f}\\\\sigma$}}'.format(f=sig_figures(Significances_3000['Sigs_3000_5p5TeV'][4], 3)) + ' & ' + \\\n",
    "         '\\\\multirow{{2}}{{*}}{{${f}\\\\sigma$}}'.format(f=sig_figures(Significances_300['Sigs_300_5p5TeV'][3], 3)) + ' & ' + \\\n",
    "         '\\\\multirow{{2}}{{*}}{{${f}\\\\sigma$}}'.format(f=sig_figures(Significances_3000['Sigs_3000_5p5TeV'][3], 3)) + ' & ' + \\\n",
    "         '\\\\multirow{{2}}{{*}}{{(${f1}\\\\sigma$,\\\\, ${f2}\\\\sigma$)}}'.format(f1=sig_figures(Comb_sig['Likelihood_300'][4], 3),\n",
    "                                                                            f2=sig_figures(Comb_sig['Likelihood_3000'][4], 3)) + ' & ' + \\\n",
    "         '\\\\\\\\[5mm] \\hhline{=============}'\n",
    "\n",
    "B6_col = '\\\\multirow{2}{*}{$6.5~\\\\mathrm{TeV}~(\\\\mathcal{B}6)$}' + ' & ' + \\\n",
    "         '\\\\multirow{{2}}{{*}}{{${f}\\\\sigma$}}'.format(f=sig_figures(Significances_300['Sigs_300_6p5TeV'][4], 3)) + ' & ' + \\\n",
    "         '\\\\multirow{{2}}{{*}}{{${f}\\\\sigma$}}'.format(f=sig_figures(Significances_3000['Sigs_3000_6p5TeV'][4], 3)) + ' & ' + \\\n",
    "         '\\\\multirow{{2}}{{*}}{{${f}\\\\sigma$}}'.format(f=sig_figures(Significances_300['Sigs_300_6p5TeV'][3], 3)) + ' & ' + \\\n",
    "         '\\\\multirow{{2}}{{*}}{{${f}\\\\sigma$}}'.format(f=sig_figures(Significances_3000['Sigs_3000_6p5TeV'][3], 3)) + ' & ' + \\\n",
    "         '\\\\multirow{{2}}{{*}}{{(${f1}\\\\sigma$,\\\\, ${f2}\\\\sigma$)}}'.format(f1=sig_figures(Comb_sig['Likelihood_300'][5], 3),\n",
    "                                                                            f2=sig_figures(Comb_sig['Likelihood_3000'][5], 3)) + ' & ' + \\\n",
    "         '\\\\\\\\[5mm] \\hhline{=============}'\n",
    "\n",
    "B7_col = '\\\\multirow{2}{*}{$7.5~\\\\mathrm{TeV}~(\\\\mathcal{B}7)$}' + ' & ' + \\\n",
    "         '\\\\multirow{{2}}{{*}}{{${f}\\\\sigma$}}'.format(f=sig_figures(Significances_300['Sigs_300_7p5TeV'][4], 3)) + ' & ' + \\\n",
    "         '\\\\multirow{{2}}{{*}}{{${f}\\\\sigma$}}'.format(f=sig_figures(Significances_3000['Sigs_3000_7p5TeV'][4], 3)) + ' & ' + \\\n",
    "         '\\\\multirow{{2}}{{*}}{{${f}\\\\sigma$}}'.format(f=sig_figures(Significances_300['Sigs_300_7p5TeV'][3], 3)) + ' & ' + \\\n",
    "         '\\\\multirow{{2}}{{*}}{{${f}\\\\sigma$}}'.format(f=sig_figures(Significances_3000['Sigs_3000_7p5TeV'][3], 3)) + ' & ' + \\\n",
    "         '\\\\multirow{{2}}{{*}}{{(${f1}\\\\sigma$,\\\\, ${f2}\\\\sigma$)}}'.format(f1=sig_figures(Comb_sig['Likelihood_300'][6], 3),\n",
    "                                                                            f2=sig_figures(Comb_sig['Likelihood_3000'][6], 3)) + ' & ' + \\\n",
    "         '\\\\\\\\[5mm] \\hhline{=============}'\n",
    "\n",
    "\n",
    "print(\"%%%%%%%%%%%%%%%%%%%%%%%%%%%%%%%%%%%%%%%%%%%%%%%%%%%%\")\n",
    "print(\"{\\\\renewcommand{\\\\arraystretch}{0.9}%\")\n",
    "print(\"\\\\begin{table}[htb!]\")\n",
    "print(\"\\\\begin{center}\")\n",
    "print(\"\\\\captionsetup{justification=raggedright,singlelinecheck=true}\")\n",
    "print(\"\\\\resizebox{\\columnwidth}{!}{%\")\n",
    "print(\"\\\\begin{tabular}{c|c|c|c|c|cccccccc}\")\n",
    "print(\"$M_{LQ}~(\\\\mathrm{GeV})$ & \\\\multicolumn{1}{c|}{\\\\makecell{$M(\\\\mu^+,\\\\mu^-)$ \\\\\\\\ $\\\\mathcal{L} = 300~\\\\mathrm{fb^{-1}}$}} & \\\\multicolumn{1}{c|}{\\\\makecell{$M(\\\\mu^+,\\\\mu^-)$ \\\\\\\\ $\\\\mathcal{L} = 3000~\\\\mathrm{fb^{-1}}$}} & \\\\multicolumn{1}{c|}{\\\\makecell{$E(\\\\mu^+)$ \\\\\\\\ $\\\\mathcal{L} = 300~\\\\mathrm{fb^{-1}}$}} & \\\\multicolumn{1}{c|}{\\\\makecell{$E(\\\\mu^+)$ \\\\\\\\ $\\\\mathcal{L} = 3000~\\\\mathrm{fb^{-1}}$}} & \\\\multicolumn{1}{c}{\\\\makecell{$\\\\mathrm{Combined}$ \\\\\\\\ $(300,3000)~\\\\mathrm{fb^{-1}}$}} \\\\\\\\[2mm] \\\\hline\")\n",
    "print(B1_col)\n",
    "print(B2_col)\n",
    "print(B3_col)\n",
    "print(B4_col)\n",
    "print(B5_col)\n",
    "print(B6_col)\n",
    "print(B7_col)\n",
    "print(\"\\\\end{tabular}}\")\n",
    "print(\"\\\\caption{The statistical significance for each of the mass benchmarks mentioned in the text for $M(\\\\mu^+,\\\\mu^-)$ and $p_T(\\\\mu^+)$ distributions. In {\\\\redBU red} we indicate points that pass the $5\\\\sigma$ threshold for discovery. In the last column we show the combined significance, calculated using Stouffer's method, based on the distributions shown in Fig.~\\\\ref{fig:LQ_observables_2}. Points marked with ``$-$'' indicates that post-selection cross-section is not sufficient to produce a single event.}\")\n",
    "print(\"\\\\label{tab:significance_table}\")\n",
    "print(\"\\\\end{center}\")\n",
    "print(\"\\\\end{table}}\")\n",
    "print(\"%%%%%%%%%%%%%%%%%%%%%%%%%%%%%%%%%%%%%%%%%%%%%%%%%%%%\")\n"
   ]
  },
  {
   "cell_type": "code",
   "execution_count": null,
   "metadata": {},
   "outputs": [],
   "source": []
  },
  {
   "cell_type": "code",
   "execution_count": null,
   "metadata": {},
   "outputs": [],
   "source": []
  },
  {
   "cell_type": "code",
   "execution_count": null,
   "metadata": {},
   "outputs": [],
   "source": []
  },
  {
   "cell_type": "code",
   "execution_count": null,
   "metadata": {},
   "outputs": [],
   "source": []
  },
  {
   "cell_type": "code",
   "execution_count": null,
   "metadata": {},
   "outputs": [],
   "source": []
  }
 ],
 "metadata": {
  "kernelspec": {
   "display_name": "MG5-py3",
   "language": "python",
   "name": "madgraph-py3"
  },
  "language_info": {
   "codemirror_mode": {
    "name": "ipython",
    "version": 3
   },
   "file_extension": ".py",
   "mimetype": "text/x-python",
   "name": "python",
   "nbconvert_exporter": "python",
   "pygments_lexer": "ipython3",
   "version": "3.7.6"
  }
 },
 "nbformat": 4,
 "nbformat_minor": 4
}
