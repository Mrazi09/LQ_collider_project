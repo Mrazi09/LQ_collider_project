{
 "cells": [
  {
   "cell_type": "code",
   "execution_count": 1,
   "metadata": {},
   "outputs": [],
   "source": [
    "import pandas as pd\n",
    "import scipy\n",
    "from scipy.stats import poisson\n",
    "from scipy.stats import multinomial\n",
    "from scipy.stats import norm\n",
    "import warnings\n",
    "\n",
    "import glob\n",
    "import numpy as np\n",
    "from tqdm import tqdm\n",
    "\n",
    "from matplotlib import pyplot as plt\n",
    "import matplotlib as mpl"
   ]
  },
  {
   "cell_type": "code",
   "execution_count": 2,
   "metadata": {},
   "outputs": [],
   "source": [
    "def latex_float(f):\n",
    "    float_str = \"{0:.2g}\".format(f)\n",
    "    if \"e\" in float_str:\n",
    "        base, exponent = float_str.split(\"e\")\n",
    "        return r\"{0} \\times 10^{{{1}}}\".format(base, int(exponent))\n",
    "    else:\n",
    "        return float_str"
   ]
  },
  {
   "cell_type": "code",
   "execution_count": 3,
   "metadata": {},
   "outputs": [],
   "source": [
    "path = \"/home/felipe/JoaoPino/1-LQsCollider_project/Data_MadGraph/Full_data\"\n",
    "\n",
    "all_Signal = glob.glob(path + \"/LQ_Tchannel_1p5TeV.csv\")\n",
    "all_ttbar = glob.glob(path + \"/ttbar_*.csv\")\n",
    "all_WW = glob.glob(path + \"/WW_*.csv\")\n",
    "all_ZZ = glob.glob(path + \"/ZZ_*.csv\")\n",
    "all_ZW = glob.glob(path + \"/ZW_*.csv\")\n",
    "all_Zplusjets = glob.glob(path + \"/Z_plus_jets_*.csv\")\n"
   ]
  },
  {
   "cell_type": "code",
   "execution_count": 4,
   "metadata": {},
   "outputs": [],
   "source": [
    "li_Signal = []\n",
    "li_ttbar = []\n",
    "li_WW = []\n",
    "li_ZZ = []\n",
    "li_ZW = []\n",
    "li_Zplusjets = []\n",
    "\n",
    "#Signal\n",
    "for filename in all_Signal:\n",
    "    df = pd.read_csv(filename, index_col=None, header=0)\n",
    "    li_Signal.append(df)\n",
    "\n",
    "Signal = pd.concat(li_Signal, axis=0, ignore_index=True)\n",
    "\n",
    "#ttbar\n",
    "for filename in all_ttbar:\n",
    "    df = pd.read_csv(filename, index_col=None, header=0)\n",
    "    li_ttbar.append(df)\n",
    "\n",
    "ttbar = pd.concat(li_ttbar, axis=0, ignore_index=True)\n",
    "\n",
    "#WW\n",
    "for filename in all_WW:\n",
    "    df = pd.read_csv(filename, index_col=None, header=0)\n",
    "    li_WW.append(df)\n",
    "\n",
    "WW = pd.concat(li_WW, axis=0, ignore_index=True)\n",
    "\n",
    "#ZZ\n",
    "for filename in all_ZZ:\n",
    "    df = pd.read_csv(filename, index_col=None, header=0)\n",
    "    li_ZZ.append(df)\n",
    "\n",
    "ZZ = pd.concat(li_ZZ, axis=0, ignore_index=True)\n",
    "\n",
    "#ZW\n",
    "for filename in all_ZW:\n",
    "    df = pd.read_csv(filename, index_col=None, header=0)\n",
    "    li_ZW.append(df)\n",
    "\n",
    "ZW = pd.concat(li_ZW, axis=0, ignore_index=True)\n",
    "\n",
    "#Z plus jets\n",
    "for filename in all_Zplusjets:\n",
    "    df = pd.read_csv(filename, index_col=None, header=0)\n",
    "    li_Zplusjets.append(df)\n",
    "\n",
    "Z_plus_jets = pd.concat(li_Zplusjets, axis=0, ignore_index=True)\n",
    "\n",
    "Diboson = pd.concat([WW, ZZ, ZW],axis=0)"
   ]
  },
  {
   "cell_type": "code",
   "execution_count": 5,
   "metadata": {},
   "outputs": [],
   "source": [
    "#Reweight backgrounds to higher-order cross sections\n",
    "\n",
    "#Cross sections: Sums all values in collumn 'weight' in each data frame\n",
    "#Divided by the number of samples. I have batches of 10 samples, each with 100K events\n",
    "\n",
    "#ttbar\n",
    "ttbar_N3LO = 988.57\n",
    "ttbar_LO = 93.32\n",
    "ttbar_new_weight = (ttbar['xs_weight']*ttbar_N3LO)/ttbar_LO\n",
    "xsec_N3LO_ttbar = (ttbar_new_weight.sum()*1000)/10\n",
    "\n",
    "#Z plus jets\n",
    "Zjets_NNLO = 6.33*1e4\n",
    "Zjets_LO = 4128.0\n",
    "Zjets_new_weight = (Z_plus_jets['xs_weight']*Zjets_NNLO)/Zjets_LO\n",
    "xsec_NNLO_Zjets = (Zjets_new_weight.sum()*1000)/10\n",
    "\n",
    "#VV +jets. Cross sections for each individual process \n",
    "#WW + jets\n",
    "WW_NLO = 124.31\n",
    "WW_LO = 77.22\n",
    "WW_new_weight = (WW['xs_weight']*WW_NLO)/WW_LO\n",
    "xsec_NNLO_WW = (WW_new_weight.sum()*1000)/10\n",
    "\n",
    "#WZ + jets\n",
    "ZW_NLO = 51.82\n",
    "ZW_LO = 0.9827\n",
    "ZW_new_weight = (ZW['xs_weight']*ZW_NLO)/ZW_LO\n",
    "xsec_NNLO_ZW = (ZW_new_weight.sum()*1000)/10\n",
    "\n",
    "#ZZ + jets\n",
    "ZZ_NLO = 17.72\n",
    "ZZ_LO = 0.03654\n",
    "ZZ_new_weight = (ZZ['xs_weight']*ZZ_NLO)/ZZ_LO\n",
    "xsec_NNLO_ZZ = (ZZ_new_weight.sum()*1000)/10\n"
   ]
  },
  {
   "cell_type": "code",
   "execution_count": 6,
   "metadata": {},
   "outputs": [],
   "source": [
    "ttbar['xs_weight'] = ttbar_new_weight\n",
    "Z_plus_jets['xs_weight'] = Zjets_new_weight\n",
    "WW['xs_weight'] = WW_new_weight\n",
    "ZW['xs_weight'] = ZW_new_weight\n",
    "ZZ['xs_weight'] = ZZ_new_weight\n",
    "\n",
    "Diboson = pd.concat([WW, ZZ, ZW],axis=0)"
   ]
  },
  {
   "cell_type": "code",
   "execution_count": 7,
   "metadata": {},
   "outputs": [
    {
     "name": "stdout",
     "output_type": "stream",
     "text": [
      "Available observables : \n",
      "\n",
      " ['pt_l1' 'pt_l2' 'E_l1' 'E_l2' 'eta_l1' 'eta_l2' 'phi_l1' 'phi_l2'\n",
      " 'DeltaR_l1l2' 'DeltaPhi_l1l2' 'DeltaTheta_l1l2' 'DeltaEta_l1l2'\n",
      " 'cos_l1l2' 'pt_l1_CM' 'pt_l2_CM' 'E_l1_CM' 'E_l2_CM' 'eta_l1_CM'\n",
      " 'eta_l2_CM' 'phi_l1_CM' 'phi_l2_CM' 'DeltaR_l1l2_CM' 'DeltaPhi_l1l2_CM'\n",
      " 'DeltaTheta_l1l2_CM' 'DeltaEta_l1l2_CM' 'cos_l1l2_CM' 'b2_l1l2' 'b4_l1l2'\n",
      " 'M_l1l2' 'SpinCorr_Rcosl1' 'SpinCorr_Rcosl2' 'SpinCorr_Ncosl1'\n",
      " 'SpinCorr_Ncosl2' 'mphi1' 'M_l1l2_CM' 'xs_weight']\n"
     ]
    }
   ],
   "source": [
    "print(\"Available observables : \\n\\n {}\".format(np.transpose(list(Diboson))))"
   ]
  },
  {
   "cell_type": "code",
   "execution_count": 8,
   "metadata": {},
   "outputs": [
    {
     "name": "stdout",
     "output_type": "stream",
     "text": [
      "Number of expected background events/bin: \n",
      " [327136629345    592671953     60040522     11762895      3917947\n",
      "      2392474       122270        77941        35675        17964\n",
      "        10728         5234          531         3679          531\n",
      "         2570            0            0         1553            0\n",
      "            0            0            0            0            0\n",
      "            0            0            0            0            0]\n",
      "\n",
      "\n",
      "Number of expected signal events/bin: \n",
      " [4621 5744 5366 4062 3589 2666 1872 1387  984  797  520  450  281  121\n",
      "   69   86   60   30   47   26    8    0    4    0    0    4    0    0\n",
      "    0    4]\n",
      "\n",
      "\n",
      "Number of expected signal + background events \n",
      " [327136633966    592677697     60045888     11766957      3921536\n",
      "      2395140       124142        79328        36659        18761\n",
      "        11248         5684          812         3800          600\n",
      "         2656           60           30         1600           26\n",
      "            8            0            4            0            0\n",
      "            4            0            0            0            4]\n",
      "\n",
      "\n",
      "Collider luminosity: 3000.0 fb^(-1)\n",
      "\n",
      "\n",
      "Distribution for the calculation pt_l2\n"
     ]
    }
   ],
   "source": [
    "number_of_bins = 30\n",
    "Obs = 'pt_l2'\n",
    "lumi = 3000.\n",
    "\n",
    "Get_events_background_l1 = Diboson[Obs].pipe(lambda s: pd.Series(np.histogram(s, range=(Diboson[Obs].min(), Diboson[Obs].max()), bins=number_of_bins, weights=Diboson['xs_weight']*1000*lumi)))[0] + \\\n",
    "                     Z_plus_jets[Obs].pipe(lambda s: pd.Series(np.histogram(s, range=(Diboson[Obs].min(), Diboson[Obs].max()), bins=number_of_bins, weights=Z_plus_jets['xs_weight']*1000*lumi)))[0] + \\\n",
    "                     ttbar[Obs].pipe(lambda s: pd.Series(np.histogram(s, range=(Diboson[Obs].min(), Diboson[Obs].max()), bins=number_of_bins, weights=ttbar['xs_weight']*1000*lumi)))[0]\n",
    "Get_events_background_l1 = np.array([int(s) for s in Get_events_background_l1])\n",
    "\n",
    "Get_events_signal_l1 = Signal[Obs].pipe(lambda s: pd.Series(np.histogram(s, range=(Diboson[Obs].min(), Signal[Obs].max()), bins=number_of_bins, weights=Signal['xs_weight']*1000*lumi)))[0]\n",
    "Get_events_signal_l1 = np.array([int(s) for s in Get_events_signal_l1])\n",
    "\n",
    "print(\"Number of expected background events/bin: \\n {}\".format(Get_events_background_l1))\n",
    "print(\"\\n\")\n",
    "print(\"Number of expected signal events/bin: \\n {}\".format(Get_events_signal_l1))\n",
    "print(\"\\n\")\n",
    "print(\"Number of expected signal + background events \\n {}\".format(Get_events_background_l1 + Get_events_signal_l1))\n",
    "print(\"\\n\")\n",
    "print(\"Collider luminosity: {} fb^(-1)\".format(lumi))\n",
    "print(\"\\n\")\n",
    "print(\"Distribution for the calculation {}\".format(Obs))\n"
   ]
  },
  {
   "cell_type": "markdown",
   "metadata": {},
   "source": [
    "# Generate Poisson equivalent distributions for signal and backgrounds"
   ]
  },
  {
   "cell_type": "code",
   "execution_count": 9,
   "metadata": {},
   "outputs": [
    {
     "name": "stderr",
     "output_type": "stream",
     "text": [
      "100%|██████████| 50000/50000 [02:57<00:00, 281.43it/s]\n"
     ]
    }
   ],
   "source": [
    "Features = ['Log_prob_S', 'Log_prob_B']\n",
    "\n",
    "df = pd.DataFrame(columns=Features)\n",
    "\n",
    "\n",
    "#Number of pseudo experiments\n",
    "N = 50_000\n",
    "\n",
    "#Arrays with the number of background events and the number of signal+background events\n",
    "Background = Get_events_background_l1\n",
    "Signal_plus_background = Get_events_background_l1 + Get_events_signal_l1\n",
    "\n",
    "#Up to which bins to use\n",
    "number_of_bins = np.where(Get_events_background_l1 == 0)[0][0]\n",
    "\n",
    "for idx in tqdm(range(0, N)):\n",
    "    with warnings.catch_warnings():\n",
    "        warnings.filterwarnings('error')\n",
    "        try:\n",
    "    \n",
    "            # ----- Signal -----\n",
    "            # Create new data that is poisson distributed based on the orignal simulated one\n",
    "            New_events_signal = np.array([ np.random.poisson(Signal_plus_background[i]) for i in range(0, number_of_bins) ])\n",
    "\n",
    "            # For the background, stay fixed\n",
    "            New_events_background = Background\n",
    "\n",
    "            # ----- Get probabilities ----- \n",
    "            Get_probabilities_poisson_S = np.array([poisson.logpmf(k=New_events_signal[n], mu=New_events_background[n]) for n in range(0,number_of_bins)])    \n",
    "            Get_probabilities_poisson_B = np.array([poisson.logpmf(k=New_events_background[n], mu=New_events_signal[n]) for n in range(0,number_of_bins)])\n",
    "            \n",
    "            Get_product_S = np.prod(Get_probabilities_poisson_S)\n",
    "            Get_product_B = np.prod(Get_probabilities_poisson_B)\n",
    "            Get_prob_S = np.log(Get_product_S/Get_product_B)\n",
    "\n",
    "            # ----- Background -----\n",
    "            # Create new data that is poisson distributed based on the orignal simulated one\n",
    "            New_events_background = np.array([ np.random.poisson(Background[i]) for i in range(0, number_of_bins) ])\n",
    "            \n",
    "            # For the signal, stay fixed\n",
    "            New_events_signal = Signal_plus_background\n",
    "            \n",
    "            # ----- Get probabilities ----- \n",
    "            Get_probabilities_poisson_S = np.array([poisson.logpmf(k=New_events_background[n], mu=New_events_signal[n]) for n in range(0,number_of_bins)])    \n",
    "            Get_probabilities_poisson_B = np.array([poisson.logpmf(k=New_events_signal[n], mu=New_events_background[n]) for n in range(0,number_of_bins)])\n",
    "            \n",
    "            Get_product_S = np.prod(Get_probabilities_poisson_S)\n",
    "            Get_product_B = np.prod(Get_probabilities_poisson_B)            \n",
    "            Get_prob_B = np.log(Get_product_S/Get_product_B)\n",
    "\n",
    "            Obs = [Get_prob_S, Get_prob_B]\n",
    "\n",
    "            # Save data data into a dataframe for further manipulation (df_S)\n",
    "            entry = pd.DataFrame([Obs], columns=Features)\n",
    "            df = df.append(entry)\n",
    "\n",
    "        except Warning as e:\n",
    "            continue\n",
    "            "
   ]
  },
  {
   "cell_type": "markdown",
   "metadata": {},
   "source": [
    "# Plots"
   ]
  },
  {
   "cell_type": "code",
   "execution_count": 11,
   "metadata": {},
   "outputs": [
    {
     "data": {
      "image/png": "[encoded data removed]",
      "text/plain": [
       "<Figure size 756x396 with 1 Axes>"
      ]
     },
     "metadata": {
      "needs_background": "light"
     },
     "output_type": "display_data"
    }
   ],
   "source": [
    "mpl.rcParams['text.usetex']=True \n",
    "mpl.rcParams['text.latex.preamble'] = r'\\usepackage{bm}'\n",
    "plt.rcParams.update({'font.size': 15})\n",
    "mpl.rcParams[\"legend.framealpha\"] = 1.0\n",
    "mpl.rcParams['axes.spines.right'] = False\n",
    "mpl.rcParams['axes.spines.top'] = False\n",
    "mpl.rcParams[\"figure.figsize\"] = [10.5, 5.5]\n",
    "\n",
    "f, ax = plt.subplots()\n",
    "\n",
    "#Get bins for gaussian fit\n",
    "_, bins_S, _ = plt.hist(df['Log_prob_S'].to_numpy(), bins=100, density=1 , alpha=0.5)\n",
    "_, bins_B, _ = plt.hist(df['Log_prob_B'].to_numpy(), bins=100, density=1 , alpha=0.5)\n",
    "#Close so plots are not drawn\n",
    "plt.clf()\n",
    "\n",
    "#Signal plot\n",
    "mu_S, sigma_S = scipy.stats.norm.fit(df['Log_prob_S'].to_numpy())\n",
    "best_fit_line_S = scipy.stats.norm.pdf(bins_S, mu_S, sigma_S)\n",
    "df['Log_prob_S'].hist(bins=100, color='red', histtype = 'step', density=True)\n",
    "plt.plot(bins_S, best_fit_line_S, '-r')\n",
    "\n",
    "#Background plot\n",
    "mu_B, sigma_B = scipy.stats.norm.fit(df['Log_prob_B'].to_numpy())\n",
    "best_fit_line_B = scipy.stats.norm.pdf(bins_B, mu_B, sigma_B)\n",
    "df['Log_prob_B'].hist(bins=100, color='blue', histtype = 'step', density=True)\n",
    "plt.plot(bins_B, best_fit_line_B, '-b')\n",
    "\n",
    "#Calculate p-value and translate to sigmas\n",
    "p_value = 1 - norm.cdf(mu_S, mu_B, sigma_B)\n",
    "sigma = (mu_S - mu_B)/sigma_B\n",
    "\n",
    "\n",
    "plt.legend([r'Signal $(\\mathcal{F}_1)$', r'Background $(\\mathcal{F}_2)$'], loc='upper right')\n",
    "plt.grid(\"on\")\n",
    "plt.ylabel('Frequency')\n",
    "plt.xlabel(r'$\\mathcal{F}(x_{i,\\mathrm{S}}; x_{i,\\mathrm{N}})$')\n",
    "plt.title(r'Gaussian fits determined from $p_T (\\mu^+)$ distribution')\n",
    "plt.plot(np.ones(100)*mu_S, np.linspace(0,max(best_fit_line_S),100), '--r')\n",
    "plt.plot(np.ones(100)*mu_B, np.linspace(0,max(best_fit_line_B),100), '--b')\n",
    "#plt.xlim(-0.54, 0.42)\n",
    "\n",
    "props = dict(boxstyle='round', facecolor='wheat', alpha=0.3)\n",
    "plt.text(0.02, 0.90, '$\\mathrm{{LHC}},~\\sqrt{{s}} = 13.6~\\mathrm{{TeV}}$ \\n $\\mathcal{{L}}={l}~\\mathrm{{fb^{{-1}}}}$'.format(l=int(lumi)), transform=plt.gca().transAxes, bbox=props)\n",
    "if p_value == 0.0:\n",
    "    plt.text(0.02, 0.81, '$p-\\mathrm{{value}} = 0.0000\\dots~({0:.3f}~\\sigma)$'.format(sigma), transform=plt.gca().transAxes, bbox=props)\n",
    "elif p_value != 0.0:\n",
    "    plt.text(0.02, 0.81, '$p-\\mathrm{{value}} = {a}~({b}~\\sigma)$'.format(a=latex_float(p_value), b=np.round(sigma,3)), transform=plt.gca().transAxes, bbox=props)\n",
    "    \n",
    "#plt.ylim(0, 200)    \n",
    "#plt.show()\n",
    "plt.savefig('/home/felipe/JoaoPino/1-LQsCollider_project/Plots/pT_mumu_3000fb_1p5TeV.pdf')"
   ]
  },
  {
   "cell_type": "code",
   "execution_count": null,
   "metadata": {},
   "outputs": [],
   "source": []
  },
  {
   "cell_type": "code",
   "execution_count": null,
   "metadata": {},
   "outputs": [],
   "source": []
  }
 ],
 "metadata": {
  "kernelspec": {
   "display_name": "MG5-py3",
   "language": "python",
   "name": "madgraph-py3"
  },
  "language_info": {
   "codemirror_mode": {
    "name": "ipython",
    "version": 3
   },
   "file_extension": ".py",
   "mimetype": "text/x-python",
   "name": "python",
   "nbconvert_exporter": "python",
   "pygments_lexer": "ipython3",
   "version": "3.7.6"
  }
 },
 "nbformat": 4,
 "nbformat_minor": 4
}
