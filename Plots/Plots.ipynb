{
 "cells": [
  {
   "cell_type": "code",
   "execution_count": null,
   "metadata": {},
   "outputs": [],
   "source": [
    "from matplotlib import pyplot as plt\n",
    "import matplotlib as mpl\n",
    "import numpy as np\n",
    "import pandas as pd\n",
    "import seaborn as sns\n",
    "\n",
    "mpl.rcParams['text.usetex']=True \n",
    "mpl.rcParams['text.latex.preamble'] = r'\\usepackage{bm}'\n",
    "plt.rcParams.update({'font.size': 20})\n",
    "mpl.rcParams[\"legend.framealpha\"] = 1.0\n",
    "mpl.rcParams['axes.spines.right'] = False\n",
    "mpl.rcParams['axes.spines.top'] = False\n",
    "mpl.rcParams[\"figure.figsize\"] = [7.5, 4.5]"
   ]
  },
  {
   "cell_type": "code",
   "execution_count": null,
   "metadata": {},
   "outputs": [],
   "source": [
    "Data_1 = pd.read_csv('/home/felipe/JoaoPino/1-LQsCollider_project/Data_MadGraph/Data_MadGraph.csv', sep=',')\n",
    "Data_2 = pd.read_csv('/home/felipe/JoaoPino/1-LQsCollider_project/up_to_240/Data_MadGraph.csv', sep=',')\n",
    "Data_3 = pd.read_csv('/home/felipe/JoaoPino/1-LQsCollider_project/up_to_240/Data_MadGraph_cluster.csv', sep=',')\n",
    "Data = pd.concat([Data_1, Data_2, Data_3], axis=0)"
   ]
  },
  {
   "cell_type": "code",
   "execution_count": null,
   "metadata": {},
   "outputs": [],
   "source": [
    "#Get correlations\n",
    "data = {r'$M_{S_1}$': list(Data['mS1']), r'$M_{S_2}$': list(Data['mS2']), r'$M_R$':list(Data['mR']),\n",
    "        r'$\\sigma (gg\\rightarrow 1b + 1b + 2\\ell)$':list(Data['xsec_GluonSplit (fb)']),\n",
    "        r'$\\sigma (gg\\rightarrow 2\\ell)$':list(Data['xsec_TChannel (fb)'])}\n",
    "\n",
    "df = pd.DataFrame(data, columns = [r'$M_{S_1}$', r'$M_{S_2}$', r'$M_R$', r'$\\sigma (gg\\rightarrow 1b + 1b + 2\\ell)$',\n",
    "                                   r'$\\sigma (gg\\rightarrow 2\\ell)$'])\n",
    "\n",
    "corrMatrix = df.corr()"
   ]
  },
  {
   "cell_type": "code",
   "execution_count": null,
   "metadata": {},
   "outputs": [],
   "source": [
    "fig, ax = plt.subplots(figsize=(7,7))\n",
    "\n",
    "sns.heatmap(corrMatrix,cmap= 'coolwarm', annot=True)\n",
    "#plt.show()\n",
    "plt.savefig('/home/felipe/JoaoPino/1-LQsCollider_project/Plots/correlation.png', bbox_inches='tight', dpi=1000.0)\n",
    "plt.savefig('/home/felipe/JoaoPino/1-LQsCollider_project/Plots/correlation.pdf', bbox_inches='tight', dpi=500.0)"
   ]
  },
  {
   "cell_type": "code",
   "execution_count": null,
   "metadata": {},
   "outputs": [],
   "source": [
    "plt.figure(figsize=(10.5, 4.5))\n",
    "ax = plt.subplot(111)\n",
    "xs = Data['mS1']\n",
    "ys = Data['xsec_TChannel (fb)']\n",
    "zs = Data['mS2']\n",
    "scat = ax.scatter(x=xs, y=ys, s=5.0, c=zs, marker=\"o\", cmap=\"RdYlGn_r\", rasterized=True)\n",
    "colorb=plt.colorbar(scat,pad=0.05,fraction=0.2)\n",
    "colorb.set_label(r'$\\mathrm{M_{S_2}~(GeV)}$', fontsize=25)\n",
    "\n",
    "\n",
    "### RUN-III sensitivity line ###\n",
    "N = 1000\n",
    "run_III = 1/300\n",
    "sen_III = run_III*np.ones(N)\n",
    "xline = np.linspace(2000, 5000, 1000)\n",
    "run_III_xsec = (\"$\"+str(f\"{run_III:.2e}\").replace(\"e\", \"\\\\times 10^{\")+\"}$\").replace(\"03\", \"3\")\n",
    "\n",
    "plt.text(3700,0.4*run_III,'\\\\textbf{{Run-III}} $(${Xsec} $\\\\mathrm{{fb}})$'.format(Xsec = run_III_xsec),fontsize=17)\n",
    "plt.fill_between(x=xline,y1=0,y2=run_III,alpha=0.5,color=\"#bad4d4\")\n",
    "plt.plot(xline,sen_III,'--k')\n",
    "\n",
    "plt.xlabel(r'$\\mathrm{M_{S_1}~(GeV)}$')\n",
    "plt.ylabel(r'$\\sigma (qq\\rightarrow 2\\ell)$')\n",
    "plt.yscale('log')\n",
    "#plt.xscale('log')\n",
    "plt.ylim([1e-4, 20])\n",
    "plt.grid()\n",
    "ax.set_axisbelow(True)\n",
    "#plt.show()\n",
    "plt.tight_layout()\n",
    "plt.savefig('/home/felipe/JoaoPino/1-LQsCollider_project/Plots/mS1_vs_xsecTchannel_mS2.png', bbox_inches='tight', dpi=1000.0)\n",
    "plt.savefig('/home/felipe/JoaoPino/1-LQsCollider_project/Plots/mS1_vs_xsecTchannel_mS2.pdf', bbox_inches='tight', dpi=500.0)"
   ]
  },
  {
   "cell_type": "code",
   "execution_count": null,
   "metadata": {},
   "outputs": [],
   "source": [
    "plt.figure(figsize=(10.5, 4.5))\n",
    "ax = plt.subplot(111)\n",
    "xs = Data['mS1']\n",
    "ys = Data['xsec_GluonSplit (fb)']\n",
    "zs = Data['mS2']\n",
    "scat = ax.scatter(x=xs, y=ys, s=5.0, c=zs, marker=\"o\", cmap=\"RdYlGn_r\", rasterized=True)\n",
    "colorb=plt.colorbar(scat,pad=0.05,fraction=0.2)\n",
    "colorb.set_label(r'$\\mathrm{M_{S_2}~(GeV)}$', fontsize=25)\n",
    "\n",
    "\n",
    "### RUN-III sensitivity line ###\n",
    "N = 1000\n",
    "run_III = 1/300\n",
    "sen_III = run_III*np.ones(N)\n",
    "xline = np.linspace(2000, 5000, 1000)\n",
    "run_III_xsec = (\"$\"+str(f\"{run_III:.2e}\").replace(\"e\", \"\\\\times 10^{\")+\"}$\").replace(\"03\", \"3\")\n",
    "\n",
    "plt.text(3700,0.5*run_III,'\\\\textbf{{Run-III}} $(${Xsec} $\\\\mathrm{{fb}})$'.format(Xsec = run_III_xsec),fontsize=17)\n",
    "plt.fill_between(x=xline,y1=0,y2=run_III,alpha=0.5,color=\"#bad4d4\")\n",
    "plt.plot(xline,sen_III,'--k')\n",
    "\n",
    "plt.xlabel(r'$\\mathrm{M_{S_1}~(GeV)}$')\n",
    "plt.ylabel(r'$\\sigma (gg\\rightarrow 1b + 1b + 2\\ell)~\\mathrm{(fb)}$')\n",
    "plt.yscale('log')\n",
    "#plt.xscale('log')In[]:=\n",
    "plt.ylim([1e-4, 2])\n",
    "plt.grid()\n",
    "ax.set_axisbelow(True)\n",
    "#plt.show()\n",
    "plt.tight_layout()\n",
    "plt.savefig('/home/felipe/JoaoPino/1-LQsCollider_project/Plots/mS1_vs_xsecGluonSplit_mS2.png', bbox_inches='tight', dpi=1000.0)\n",
    "plt.savefig('/home/felipe/JoaoPino/1-LQsCollider_project/Plots/mS1_vs_xsecGluonSplit_mS2.pdf', bbox_inches='tight', dpi=500.0)"
   ]
  },
  {
   "cell_type": "code",
   "execution_count": null,
   "metadata": {},
   "outputs": [],
   "source": []
  },
  {
   "cell_type": "code",
   "execution_count": null,
   "metadata": {},
   "outputs": [],
   "source": []
  },
  {
   "cell_type": "code",
   "execution_count": null,
   "metadata": {},
   "outputs": [],
   "source": []
  },
  {
   "cell_type": "code",
   "execution_count": null,
   "metadata": {},
   "outputs": [],
   "source": []
  },
  {
   "cell_type": "code",
   "execution_count": null,
   "metadata": {},
   "outputs": [],
   "source": []
  }
 ],
 "metadata": {
  "kernelspec": {
   "display_name": "MG5-py3",
   "language": "python",
   "name": "madgraph-py3"
  },
  "language_info": {
   "codemirror_mode": {
    "name": "ipython",
    "version": 3
   },
   "file_extension": ".py",
   "mimetype": "text/x-python",
   "name": "python",
   "nbconvert_exporter": "python",
   "pygments_lexer": "ipython3",
   "version": "3.7.6"
  }
 },
 "nbformat": 4,
 "nbformat_minor": 4
}
